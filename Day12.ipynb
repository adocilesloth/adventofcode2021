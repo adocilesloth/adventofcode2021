{
 "cells": [
  {
   "cell_type": "code",
   "execution_count": 1,
   "metadata": {},
   "outputs": [],
   "source": [
    "import numpy as np\n",
    "from copy import deepcopy"
   ]
  },
  {
   "cell_type": "markdown",
   "metadata": {},
   "source": [
    "# Part 1"
   ]
  },
  {
   "cell_type": "code",
   "execution_count": 2,
   "metadata": {},
   "outputs": [],
   "source": [
    "test1 = np.array(['start-A',\n",
    "                  'start-b',\n",
    "                  'A-c',\n",
    "                  'A-b',\n",
    "                  'b-d',\n",
    "                  'A-end',\n",
    "                  'b-end'])\n",
    "\n",
    "test2 = np.array(['dc-end',\n",
    "                  'HN-start',\n",
    "                  'start-kj',\n",
    "                  'dc-start',\n",
    "                  'dc-HN',\n",
    "                  'LN-dc',\n",
    "                  'HN-end',\n",
    "                  'kj-sa',\n",
    "                  'kj-HN',\n",
    "                  'kj-dc'])\n",
    "\n",
    "test3 = np.array(['fs-end',\n",
    "                  'he-DX',\n",
    "                  'fs-he',\n",
    "                  'start-DX',\n",
    "                  'pj-DX',\n",
    "                  'end-zg',\n",
    "                  'zg-sl',\n",
    "                  'zg-pj',\n",
    "                  'pj-he',\n",
    "                  'RW-he',\n",
    "                  'fs-DX',\n",
    "                  'pj-RW',\n",
    "                  'zg-RW',\n",
    "                  'start-pj',\n",
    "                  'he-WI',\n",
    "                  'zg-he',\n",
    "                  'pj-fs',\n",
    "                  'start-RW'])"
   ]
  },
  {
   "cell_type": "code",
   "execution_count": 3,
   "metadata": {},
   "outputs": [
    {
     "name": "stdout",
     "output_type": "stream",
     "text": [
      "10\n",
      "19\n",
      "226\n"
     ]
    }
   ],
   "source": [
    "def generate_graph(data):\n",
    "    graph = {}\n",
    "    for line in data:\n",
    "        a, b = line.split('-')\n",
    "        if a not in graph.keys():\n",
    "            graph[a] = [b]\n",
    "        elif b not in graph[a]:\n",
    "            graph[a].append(b)\n",
    "            \n",
    "        if b not in graph.keys():\n",
    "            graph[b] = [a]\n",
    "        elif a not in graph[b]:\n",
    "            graph[b].append(a)\n",
    "            \n",
    "    return graph\n",
    "\n",
    "def DFSUtil(graph, v, visited, route, count, twice=None):\n",
    "    \n",
    "    route.append(v)\n",
    "    if v == 'end':\n",
    "        #print(route)\n",
    "        count += 1\n",
    "        return count\n",
    "    \n",
    "    elif v == 'start':\n",
    "        visited.append(v)\n",
    "        \n",
    "    elif v.isupper() == False and twice is not None:\n",
    "        if v not in twice:\n",
    "            twice.append(v)\n",
    "        else:\n",
    "            visited.extend(twice)\n",
    "            twice = None\n",
    "            \n",
    "    elif v.isupper() == False:\n",
    "        visited.append(v)\n",
    "    \n",
    "    for neighbour in graph[v]:\n",
    "        if neighbour not in visited:\n",
    "            count = DFSUtil(graph, neighbour, deepcopy(visited), deepcopy(route), count, deepcopy(twice))\n",
    "            \n",
    "    return count\n",
    "    \n",
    "def DFS(data, twice=None):\n",
    "    graph = generate_graph(data)\n",
    "    \n",
    "    visited = []\n",
    "    route = []\n",
    "    count = 0\n",
    "    \n",
    "    count = DFSUtil(graph, 'start', visited, route, count, twice)\n",
    "    return count\n",
    "\n",
    "print(DFS(test1))\n",
    "print(DFS(test2))\n",
    "print(DFS(test3))"
   ]
  },
  {
   "cell_type": "code",
   "execution_count": 4,
   "metadata": {},
   "outputs": [
    {
     "name": "stdout",
     "output_type": "stream",
     "text": [
      "Part 1 Result: 4573\n"
     ]
    }
   ],
   "source": [
    "inpt = np.genfromtxt('day12_input.txt', dtype=str, delimiter='\\n')\n",
    "print('Part 1 Result:', DFS(inpt))"
   ]
  },
  {
   "cell_type": "markdown",
   "metadata": {},
   "source": [
    "# Part 2"
   ]
  },
  {
   "cell_type": "code",
   "execution_count": 5,
   "metadata": {
    "scrolled": true
   },
   "outputs": [
    {
     "name": "stdout",
     "output_type": "stream",
     "text": [
      "36\n",
      "103\n",
      "3509\n"
     ]
    }
   ],
   "source": [
    "print(DFS(test1, []))\n",
    "print(DFS(test2, []))\n",
    "print(DFS(test3, []))"
   ]
  },
  {
   "cell_type": "code",
   "execution_count": 6,
   "metadata": {},
   "outputs": [
    {
     "name": "stdout",
     "output_type": "stream",
     "text": [
      "Part 2 Result: 117509\n"
     ]
    }
   ],
   "source": [
    "print('Part 2 Result:', DFS(inpt, []))"
   ]
  },
  {
   "cell_type": "code",
   "execution_count": null,
   "metadata": {},
   "outputs": [],
   "source": []
  }
 ],
 "metadata": {
  "kernelspec": {
   "display_name": "Python 3",
   "language": "python",
   "name": "python3"
  },
  "language_info": {
   "codemirror_mode": {
    "name": "ipython",
    "version": 3
   },
   "file_extension": ".py",
   "mimetype": "text/x-python",
   "name": "python",
   "nbconvert_exporter": "python",
   "pygments_lexer": "ipython3",
   "version": "3.8.5"
  }
 },
 "nbformat": 4,
 "nbformat_minor": 4
}
