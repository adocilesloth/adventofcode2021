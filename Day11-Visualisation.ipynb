{
 "cells": [
  {
   "cell_type": "code",
   "execution_count": 1,
   "metadata": {},
   "outputs": [],
   "source": [
    "import numpy as np\n",
    "from collections import deque\n",
    "\n",
    "from PIL import Image\n",
    "import imageio\n",
    "\n",
    "import matplotlib.pyplot as plt\n",
    "from matplotlib.colors import LinearSegmentedColormap\n",
    "from matplotlib.animation import ArtistAnimation\n",
    "%matplotlib inline"
   ]
  },
  {
   "cell_type": "code",
   "execution_count": 2,
   "metadata": {},
   "outputs": [],
   "source": [
    "clrs = ['#FEFBE9', '#FCF7D5', '#F5F3C1', '#EAF0B5', '#DDECBF',\n",
    "        '#D0E7CA', '#C2E3D2', '#B5DDD8', '#A8D8DC', '#9BD2E1',\n",
    "        '#8DCBE4', '#81C4E7', '#7BBCE7', '#7EB2E4', '#88A5DD',\n",
    "        '#9398D2', '#9B8AC4', '#9D7DB2', '#9A709E', '#906388',\n",
    "        '#805770', '#684957', '#46353A']\n",
    "cmap = LinearSegmentedColormap.from_list('sron_iridescent', clrs)\n",
    "cmap.set_bad('#999999')\n",
    "\n",
    "o_cmap = np.array(cmap([1.0,7/8.,6/8.,5/8.,4/8.,3/8.,2/8.,1/8.,0.0]))[:,:3]\n",
    "o_cmap = np.concatenate((np.array([[220/255.,5/255.,12/255.]]),o_cmap))\n",
    "o_cmap = (o_cmap*255).astype(int)"
   ]
  },
  {
   "cell_type": "code",
   "execution_count": 3,
   "metadata": {},
   "outputs": [],
   "source": [
    "def process_input(data):\n",
    "    nums = []\n",
    "    for line in data:\n",
    "        nums.append(list(line))\n",
    "    return np.array(nums).astype(int)\n",
    "\n",
    "def step(data):\n",
    "    data += 1\n",
    "    flashed = {}\n",
    "    \n",
    "    to_flash = np.where(data > 9)\n",
    "    \n",
    "    for i in range(0, len(to_flash[0])):\n",
    "        flashed[(to_flash[0][i],to_flash[1][i])] = True\n",
    "        \n",
    "    queue = deque(flashed.keys())\n",
    "        \n",
    "    while len(queue):\n",
    "        cur_pos = queue.popleft()\n",
    "        for dx in range(-1,2):\n",
    "            for dy in range(-1,2):\n",
    "                if dx == 0 and dy == 0:\n",
    "                    continue\n",
    "                nxt_pos = (cur_pos[0]+dx, cur_pos[1]+dy)\n",
    "                if nxt_pos[0] < 0 or nxt_pos[1] < 0 or nxt_pos[0] > len(data)-1 or nxt_pos[1] > len(data[nxt_pos[0]]) - 1:\n",
    "                    continue\n",
    "                if nxt_pos not in flashed.keys():\n",
    "                    data[nxt_pos[0],nxt_pos[1]] += 1\n",
    "                    if data[nxt_pos[0],nxt_pos[1]] > 9:\n",
    "                        queue.append(nxt_pos)\n",
    "                        flashed[nxt_pos] = True\n",
    "                        \n",
    "    for key in flashed.keys():\n",
    "        data[key[0],key[1]] = 0\n",
    "        \n",
    "    return data\n",
    "\n",
    "def create_frame(data, frames, stp):\n",
    "    clr_map = [[],\n",
    "               [70,53,58],[],[],\n",
    "               [],[],[],\n",
    "               [],[],[254,251,233]]\n",
    "    \n",
    "    coloured = np.ones((data.shape[0],data.shape[1],3), dtype=int)\n",
    "    for x in range(0, len(data)):\n",
    "        for  y in range(0, len(data[x])):\n",
    "            coloured[x,y] = o_cmap[data[x,y]]\n",
    "    \n",
    "    image = Image.fromarray(coloured.astype('uint8'), mode='RGB')\n",
    "    image = image.resize((100*4,100*4), resample=Image.NEAREST)\n",
    "    image.save('./frames/day11_'+str(stp).zfill(4)+'.png')\n",
    "    frames.append(np.array(image))\n",
    "    return frames\n",
    "\n",
    "def create_vis(data):\n",
    "    data = process_input(data)\n",
    "    frames = []\n",
    "    step_count = 0\n",
    "    \n",
    "    frames = create_frame(data, frames, step_count)\n",
    "    \n",
    "    while np.sum(data):\n",
    "        data = step(data)\n",
    "        step_count += 1\n",
    "        frames = create_frame(data, frames, step_count)\n",
    "        \n",
    "    for i in range(1, 21):\n",
    "        data = step(data)\n",
    "        frames = create_frame(data, frames, step_count+i)\n",
    "        \n",
    "    return frames"
   ]
  },
  {
   "cell_type": "code",
   "execution_count": 4,
   "metadata": {},
   "outputs": [],
   "source": [
    "inpt = np.genfromtxt('day11_input.txt', dtype=str, delimiter='\\n')\n",
    "frames = create_vis(inpt)"
   ]
  },
  {
   "cell_type": "code",
   "execution_count": 5,
   "metadata": {},
   "outputs": [],
   "source": [
    "imageio.mimsave('./day11-vis.gif', frames, duration=1/4)"
   ]
  },
  {
   "cell_type": "code",
   "execution_count": null,
   "metadata": {},
   "outputs": [],
   "source": []
  }
 ],
 "metadata": {
  "kernelspec": {
   "display_name": "Python 3",
   "language": "python",
   "name": "python3"
  },
  "language_info": {
   "codemirror_mode": {
    "name": "ipython",
    "version": 3
   },
   "file_extension": ".py",
   "mimetype": "text/x-python",
   "name": "python",
   "nbconvert_exporter": "python",
   "pygments_lexer": "ipython3",
   "version": "3.8.5"
  }
 },
 "nbformat": 4,
 "nbformat_minor": 4
}
