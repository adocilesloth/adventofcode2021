{
 "cells": [
  {
   "cell_type": "code",
   "execution_count": 1,
   "metadata": {},
   "outputs": [],
   "source": [
    "import numpy as np\n",
    "from collections import defaultdict\n",
    "from copy import deepcopy"
   ]
  },
  {
   "cell_type": "markdown",
   "metadata": {},
   "source": [
    "# Part 1"
   ]
  },
  {
   "cell_type": "code",
   "execution_count": 2,
   "metadata": {},
   "outputs": [
    {
     "name": "stdout",
     "output_type": "stream",
     "text": [
      "739785\n"
     ]
    }
   ],
   "source": [
    "players = [[4,0],[8,0]]\n",
    "det_die = np.arange(1, 101)\n",
    "die_idx = 0\n",
    "\n",
    "def roll(die, die_idx):\n",
    "    if die_idx < len(die)-2:\n",
    "        move = np.sum(die[die_idx:die_idx+3])\n",
    "        die_idx += 3\n",
    "        if die_idx == len(die):\n",
    "            die_idx = 0\n",
    "    elif die_idx == len(die)-2:\n",
    "        move = die[die_idx]+die[die_idx+1]+die[0]\n",
    "        die_idx = 1\n",
    "    elif die_idx == len(die)-1:\n",
    "        move = die[die_idx]+die[0]+die[1]\n",
    "        die_idx = 2\n",
    "    return move, die_idx\n",
    "\n",
    "def get_pos(old_pos, move):\n",
    "    new_pos = (old_pos+move)%10\n",
    "    if new_pos == 0:\n",
    "        new_pos = 10\n",
    "    return new_pos\n",
    "\n",
    "def play_game(players, die, winning_score=1000):\n",
    "    die_idx = 0\n",
    "    rolls = 0\n",
    "    while True:\n",
    "        #player 0\n",
    "        move, die_idx = roll(die, die_idx)\n",
    "        rolls += 3\n",
    "        players[0][0] = get_pos(players[0][0], move)\n",
    "        players[0][1] = players[0][1]+players[0][0]\n",
    "        if players[0][1] >= winning_score:\n",
    "            break\n",
    "            \n",
    "        #player 1\n",
    "        move, die_idx = roll(die, die_idx)\n",
    "        rolls += 3\n",
    "        players[1][0] = get_pos(players[1][0], move)\n",
    "        players[1][1] = players[1][1]+players[1][0]\n",
    "        if players[1][1] >= winning_score:\n",
    "            break\n",
    "            \n",
    "    score = np.min([players[0][1], players[1][1]])\n",
    "    return score * rolls\n",
    "\n",
    "print(play_game(players, det_die))"
   ]
  },
  {
   "cell_type": "code",
   "execution_count": 3,
   "metadata": {},
   "outputs": [
    {
     "name": "stdout",
     "output_type": "stream",
     "text": [
      "Part 1 Result: 757770\n"
     ]
    }
   ],
   "source": [
    "#Input is:\n",
    "#Player 1 starting position: 6\n",
    "#Player 2 starting position: 8\n",
    "players = [[6,0],[8,0]]\n",
    "die_idx = 0\n",
    "print('Part 1 Result:', play_game(players, det_die))"
   ]
  },
  {
   "cell_type": "markdown",
   "metadata": {},
   "source": [
    "# Part 2"
   ]
  },
  {
   "cell_type": "code",
   "execution_count": 4,
   "metadata": {
    "scrolled": true
   },
   "outputs": [
    {
     "name": "stdout",
     "output_type": "stream",
     "text": [
      "defaultdict(<class 'int'>, {4: 249542, 3: 4608, 5: 3219454, 6: 24905476, 7: 77993473, 8: 62172638, 9: 8678745, 10: 53217})\n",
      "defaultdict(<class 'int'>, {0: 1, 1: 27, 2: 729, 3: 15075, 4: 157483, 5: 1032587, 6: 2974373, 7: 2314598, 8: 321508, 9: 1971})\n",
      "defaultdict(<class 'int'>, {4: 230681, 6: 34576828, 7: 92929443, 8: 57067858, 5: 5448341, 9: 5931126, 10: 32562, 3: 1730})\n",
      "defaultdict(<class 'int'>, {0: 1, 1: 27, 2: 729, 3: 17953, 4: 254050, 5: 1411009, 6: 3520415, 7: 2121762, 8: 219716, 9: 1206})\n"
     ]
    }
   ],
   "source": [
    "get_roll = {3:1, 4:3, 5:6, 6:7, 7:6, 8:3, 9:1} #roll: possible number of combinations to get roll\n",
    "\n",
    "turns_win_0 = defaultdict(int)\n",
    "turns_los_0 = defaultdict(int)\n",
    "def count_turns_0(position, score, count, turns, old_key=None):\n",
    "    global turns_win_0\n",
    "    global turns_los_0\n",
    "    get_roll = {3:1, 4:3, 5:6, 6:7, 7:6, 8:3, 9:1}\n",
    "    \n",
    "    turns += 1\n",
    "    if old_key is not None:\n",
    "        position = get_pos(position, old_key)\n",
    "        count *= get_roll[old_key]\n",
    "        score += position\n",
    "    \n",
    "    if score >= 21:\n",
    "        turns_win_0[turns] += count\n",
    "        return\n",
    "    else:\n",
    "        turns_los_0[turns] += count\n",
    "    \n",
    "    for key in get_roll.keys():\n",
    "        count_turns_0(deepcopy(position), deepcopy(score), deepcopy(count), deepcopy(turns), deepcopy(key))\n",
    "    #return turns_21\n",
    "count_turns_0(4, 0, 1, -1)\n",
    "print(turns_win_0)\n",
    "print(turns_los_0)\n",
    "\n",
    "turns_win_1 = defaultdict(int)\n",
    "turns_los_1 = defaultdict(int)\n",
    "def count_turns_1(position, score, count, turns, old_key=None):\n",
    "    global turns_win_1\n",
    "    global turns_los_1\n",
    "    get_roll = {3:1, 4:3, 5:6, 6:7, 7:6, 8:3, 9:1}\n",
    "    \n",
    "    turns += 1\n",
    "    if old_key is not None:\n",
    "        position = get_pos(position, old_key)\n",
    "        count *= get_roll[old_key]\n",
    "        score += position\n",
    "    \n",
    "    if score >= 21:\n",
    "        turns_win_1[turns] += count\n",
    "        return\n",
    "    else:\n",
    "        turns_los_1[turns] += count\n",
    "    \n",
    "    for key in get_roll.keys():\n",
    "        count_turns_1(deepcopy(position), deepcopy(score), deepcopy(count), deepcopy(turns), deepcopy(key))\n",
    "    #return turns_21\n",
    "count_turns_1(8, 0, 1, -1)\n",
    "print(turns_win_1)\n",
    "print(turns_los_1)"
   ]
  },
  {
   "cell_type": "code",
   "execution_count": 5,
   "metadata": {},
   "outputs": [
    {
     "name": "stdout",
     "output_type": "stream",
     "text": [
      "444356092776315\n",
      "444356092776315\n",
      "\n",
      "341960390180808\n",
      "341960364101058\n"
     ]
    }
   ],
   "source": [
    "idx = [3,4,5,6,7,8,9,10]\n",
    "\n",
    "#zero  wins\n",
    "zero = 0\n",
    "for i in range(0, len(idx)):\n",
    "    sum_0_win = turns_win_0[idx[i]]\n",
    "    sum_1_los = turns_los_1[idx[i]-1] \n",
    "    zero += (sum_0_win*sum_1_los)\n",
    "print(444356092776315)\n",
    "print(zero)\n",
    "print()\n",
    "\n",
    "#one wins\n",
    "one  =  0\n",
    "for i in range(1, len(idx)-1):\n",
    "    sum_1_win = turns_win_1[idx[i]]\n",
    "    sum_0_los = turns_los_0[idx[i]]         \n",
    "    one += (sum_1_win*sum_0_los)\n",
    "print(341960390180808)\n",
    "print(one)"
   ]
  },
  {
   "cell_type": "code",
   "execution_count": 6,
   "metadata": {},
   "outputs": [
    {
     "name": "stdout",
     "output_type": "stream",
     "text": [
      "Part 2 Result: 712381680443927\n"
     ]
    }
   ],
   "source": [
    "turns_win_0 = defaultdict(int)\n",
    "turns_los_0 = defaultdict(int)\n",
    "count_turns_0(6, 0, 1, -1)\n",
    "\n",
    "idx = [3,4,5,6,7,8,9,10]\n",
    "\n",
    "#zero  wins\n",
    "zero = 0\n",
    "for i in range(0, len(idx)):\n",
    "    sum_0_win = turns_win_0[idx[i]]\n",
    "    sum_1_los = turns_los_1[idx[i]-1] \n",
    "    zero += (sum_0_win*sum_1_los)\n",
    "\n",
    "#one wins\n",
    "one  =  0\n",
    "for i in range(1, len(idx)-1):\n",
    "    sum_1_win = turns_win_1[idx[i]]\n",
    "    sum_0_los = turns_los_0[idx[i]]         \n",
    "    one += (sum_1_win*sum_0_los)\n",
    "\n",
    "if zero > one:\n",
    "    print('Part 2 Result:', zero)\n",
    "else:\n",
    "    print('Part 2 Result:', one)"
   ]
  },
  {
   "cell_type": "code",
   "execution_count": null,
   "metadata": {},
   "outputs": [],
   "source": []
  }
 ],
 "metadata": {
  "kernelspec": {
   "display_name": "Python 3",
   "language": "python",
   "name": "python3"
  },
  "language_info": {
   "codemirror_mode": {
    "name": "ipython",
    "version": 3
   },
   "file_extension": ".py",
   "mimetype": "text/x-python",
   "name": "python",
   "nbconvert_exporter": "python",
   "pygments_lexer": "ipython3",
   "version": "3.8.5"
  }
 },
 "nbformat": 4,
 "nbformat_minor": 4
}
