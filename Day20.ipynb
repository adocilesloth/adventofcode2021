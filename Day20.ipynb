{
 "cells": [
  {
   "cell_type": "code",
   "execution_count": 1,
   "metadata": {},
   "outputs": [],
   "source": [
    "import numpy as np"
   ]
  },
  {
   "cell_type": "markdown",
   "metadata": {},
   "source": [
    "# Part 1"
   ]
  },
  {
   "cell_type": "code",
   "execution_count": 2,
   "metadata": {},
   "outputs": [],
   "source": [
    "test = np.array(['..#.#..#####.#.#.#.###.##.....###.##.#..###.####..#####..#....#..#..##..##'\n",
    "                 '#..######.###...####..#..#####..##..#.#####...##.#.#..#.##..#.#......#.###'\n",
    "                 '.######.###.####...#.##.##..#..#..#####.....#.#....###..#.##......#.....#.'\n",
    "                 '.#..#..##..#...##.######.####.####.#.#...#.......#..#.#.#...####.##.#.....'\n",
    "                 '.#..#...##.#.##..#...##.#.##..###.#......#.#.......#.#.#.####.###.##...#..'\n",
    "                 '...####.#..#..#.##.#....##..#.####....##...##..#...#......#.#.......#.....'\n",
    "                 '..##..####..#...#.#.#...##..#.#..###..#####........#..####......#..#',\n",
    "               \n",
    "                 '#..#.',\n",
    "                 '#....',\n",
    "                 '##..#',\n",
    "                 '..#..',\n",
    "                 '..###'])"
   ]
  },
  {
   "cell_type": "code",
   "execution_count": 3,
   "metadata": {},
   "outputs": [],
   "source": [
    "def process_input(data):\n",
    "    iea = data[0].replace('.','0').replace('#','1')\n",
    "    \n",
    "    pad = '00'\n",
    "    for i in range(0, len(data[1])):\n",
    "        pad += '0'\n",
    "    pad += '00'\n",
    "    \n",
    "    image = [pad,pad]\n",
    "    for i in range(1, len(data)):\n",
    "        image.append('00'+data[i].replace('.','0').replace('#','1')+'00')\n",
    "    image.append(pad)\n",
    "    image.append(pad)\n",
    "    \n",
    "    return iea, image\n",
    "\n",
    "def enhance(image, iea, pad_idx=0):\n",
    "    pad = iea[pad_idx]+iea[pad_idx]\n",
    "    for i in range(0, len(image[0])):\n",
    "        pad += iea[pad_idx]\n",
    "    pad += iea[pad_idx]+iea[pad_idx]\n",
    "    \n",
    "    new_image = [pad,pad]\n",
    "    for x in range(1, len(image)-1):\n",
    "        x_string = pad[0:3]\n",
    "        for y in range(1, len(image[x])-1):\n",
    "            b_string = image[x-1][y-1:y+2]\n",
    "            b_string += image[x][y-1:y+2]\n",
    "            b_string += image[x+1][y-1:y+2]\n",
    "            \n",
    "            idx = int(b_string, 2)\n",
    "            \n",
    "            x_string += iea[idx]\n",
    "        x_string += pad[0:3]\n",
    "        new_image.append(x_string)\n",
    "    new_image.append(pad)\n",
    "    new_image.append(pad)\n",
    "    \n",
    "    return new_image\n",
    "\n",
    "def count_lit_pixels(image):\n",
    "    list_image = []\n",
    "    for line in image:\n",
    "        list_image.append(list(line))\n",
    "    list_image = np.array(list_image)\n",
    "    \n",
    "    lit = np.where(list_image == '1')\n",
    "    return(len(lit[0]))\n",
    "\n",
    "def run(data, steps):\n",
    "    iea, image = process_input(data)\n",
    "    for i in range(0, steps):\n",
    "        idx = 0\n",
    "        #if iea[0] is 1, edges will flicker\n",
    "        if iea[0] == '1':\n",
    "            if i % 2:\n",
    "                idx = -1\n",
    "            else:\n",
    "                idx = 0\n",
    "        image = enhance(image, iea, idx)\n",
    "    return count_lit_pixels(image)\n",
    "\n",
    "print(run(test, 2))"
   ]
  },
  {
   "cell_type": "code",
   "execution_count": 4,
   "metadata": {},
   "outputs": [],
   "source": [
    "inpt = np.genfromtxt('day20_input.txt', dtype=str, delimiter='\\n', comments='X')\n",
    "print('Part 1 Result:', run(inpt, 2))"
   ]
  },
  {
   "cell_type": "markdown",
   "metadata": {},
   "source": [
    "# Part 2"
   ]
  },
  {
   "cell_type": "code",
   "execution_count": 5,
   "metadata": {},
   "outputs": [
    {
     "name": "stdout",
     "output_type": "stream",
     "text": [
      "3351\n"
     ]
    }
   ],
   "source": [
    "print(run(test,50))"
   ]
  },
  {
   "cell_type": "code",
   "execution_count": 6,
   "metadata": {},
   "outputs": [
    {
     "name": "stdout",
     "output_type": "stream",
     "text": [
      "Part 2 Result: 18269\n"
     ]
    }
   ],
   "source": [
    "print('Part 2 Result:', run(inpt, 50))"
   ]
  },
  {
   "cell_type": "code",
   "execution_count": null,
   "metadata": {},
   "outputs": [],
   "source": []
  }
 ],
 "metadata": {
  "kernelspec": {
   "display_name": "Python 3",
   "language": "python",
   "name": "python3"
  },
  "language_info": {
   "codemirror_mode": {
    "name": "ipython",
    "version": 3
   },
   "file_extension": ".py",
   "mimetype": "text/x-python",
   "name": "python",
   "nbconvert_exporter": "python",
   "pygments_lexer": "ipython3",
   "version": "3.8.5"
  }
 },
 "nbformat": 4,
 "nbformat_minor": 4
}
