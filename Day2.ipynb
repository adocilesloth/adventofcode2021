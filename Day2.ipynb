{
 "cells": [
  {
   "cell_type": "code",
   "execution_count": 1,
   "metadata": {},
   "outputs": [],
   "source": [
    "import numpy as np\n",
    "\n",
    "import matplotlib.pyplot as plt\n",
    "%matplotlib inline"
   ]
  },
  {
   "cell_type": "markdown",
   "metadata": {},
   "source": [
    "# Part 1"
   ]
  },
  {
   "cell_type": "code",
   "execution_count": 2,
   "metadata": {},
   "outputs": [
    {
     "name": "stdout",
     "output_type": "stream",
     "text": [
      "[15 10]\n",
      "150\n"
     ]
    }
   ],
   "source": [
    "test = np.array(['forward 5', 'down 5', 'forward 8', 'up 3', 'down 8', 'forward 2'])\n",
    "\n",
    "move = {'forward': np.array([1,0]), 'up': np.array([0,-1]), 'down': np.array([0,1])}\n",
    "position = np.array([0,0]) #horizontal, depth\n",
    "\n",
    "for line in test:\n",
    "    direction, delta = line.split(' ')\n",
    "    position += move[direction]*int(delta)\n",
    "    \n",
    "print(position)\n",
    "print(np.prod(position))"
   ]
  },
  {
   "cell_type": "code",
   "execution_count": 3,
   "metadata": {},
   "outputs": [
    {
     "name": "stdout",
     "output_type": "stream",
     "text": [
      "Part 1 Result: 1636725\n"
     ]
    }
   ],
   "source": [
    "inpt = np.genfromtxt('day2_input.txt', dtype=str, delimiter='\\n')\n",
    "position = np.array([0,0])\n",
    "trace = []\n",
    "\n",
    "for line in inpt:\n",
    "    direction, delta = line.split(' ')\n",
    "    position += move[direction]*int(delta)\n",
    "    trace.append([position[0],position[1]])\n",
    "    \n",
    "print('Part 1 Result:', np.prod(position))"
   ]
  },
  {
   "cell_type": "code",
   "execution_count": 4,
   "metadata": {},
   "outputs": [
    {
     "data": {
      "image/png": "[encoded data removed]",
      "text/plain": [
       "<Figure size 432x288 with 1 Axes>"
      ]
     },
     "metadata": {
      "needs_background": "light"
     },
     "output_type": "display_data"
    }
   ],
   "source": [
    "trace = np.array(trace)\n",
    "plt.plot(trace[:,0], trace[:,1])\n",
    "plt.xlabel('Horizontal Position')\n",
    "plt.ylabel('Depth')\n",
    "plt.show()"
   ]
  },
  {
   "cell_type": "markdown",
   "metadata": {},
   "source": [
    "# Part 2"
   ]
  },
  {
   "cell_type": "code",
   "execution_count": 5,
   "metadata": {},
   "outputs": [
    {
     "name": "stdout",
     "output_type": "stream",
     "text": [
      "[15 60 10]\n",
      "900\n"
     ]
    }
   ],
   "source": [
    "move = {'forward': np.array([1,0,0]), 'up': np.array([0,0,-1]), 'down': np.array([0,0,1])}\n",
    "position = np.array([0,0,0]) #horizontal, depth, aim\n",
    "\n",
    "for line in test:\n",
    "    direction, delta = line.split(' ')\n",
    "    position += move[direction]*int(delta)\n",
    "    if direction == 'forward':\n",
    "        position[1] += position[2]*int(delta)\n",
    "        \n",
    "print(position)\n",
    "print(np.prod(position[:2]))"
   ]
  },
  {
   "cell_type": "code",
   "execution_count": 6,
   "metadata": {},
   "outputs": [
    {
     "name": "stdout",
     "output_type": "stream",
     "text": [
      "Part 2 Result: 1872757425\n"
     ]
    }
   ],
   "source": [
    "position = np.array([0,0,0])\n",
    "trace = []\n",
    "\n",
    "for line in inpt:\n",
    "    direction, delta = line.split(' ')\n",
    "    position += move[direction]*int(delta)\n",
    "    if direction == 'forward':\n",
    "        position[1] += position[2]*int(delta)\n",
    "    trace.append([position[0],position[1]])\n",
    "        \n",
    "print('Part 2 Result:', np.prod(position[:2]))"
   ]
  },
  {
   "cell_type": "code",
   "execution_count": 7,
   "metadata": {},
   "outputs": [
    {
     "data": {
      "image/png": "[encoded data removed]",
      "text/plain": [
       "<Figure size 432x288 with 1 Axes>"
      ]
     },
     "metadata": {
      "needs_background": "light"
     },
     "output_type": "display_data"
    }
   ],
   "source": [
    "trace = np.array(trace)\n",
    "plt.plot(trace[:,0], trace[:,1])\n",
    "plt.xlabel('Horizontal Position')\n",
    "plt.ylabel('Depth')\n",
    "plt.show()"
   ]
  }
 ],
 "metadata": {
  "kernelspec": {
   "display_name": "Python 3",
   "language": "python",
   "name": "python3"
  },
  "language_info": {
   "codemirror_mode": {
    "name": "ipython",
    "version": 3
   },
   "file_extension": ".py",
   "mimetype": "text/x-python",
   "name": "python",
   "nbconvert_exporter": "python",
   "pygments_lexer": "ipython3",
   "version": "3.6.9"
  }
 },
 "nbformat": 4,
 "nbformat_minor": 4
}
