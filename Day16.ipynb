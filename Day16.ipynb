{
 "cells": [
  {
   "cell_type": "code",
   "execution_count": 1,
   "metadata": {},
   "outputs": [],
   "source": [
    "import numpy as np\n",
    "from copy import deepcopy"
   ]
  },
  {
   "cell_type": "markdown",
   "metadata": {},
   "source": [
    "# Part 1"
   ]
  },
  {
   "cell_type": "code",
   "execution_count": 2,
   "metadata": {},
   "outputs": [],
   "source": [
    "test1 = '8A004A801A8002F478'\n",
    "test2 = '620080001611562C8802118E34'\n",
    "test3 = 'C0015000016115A2E0802F182340'\n",
    "test4 = 'A0016C880162017C3686B18A3D4780'"
   ]
  },
  {
   "cell_type": "code",
   "execution_count": 3,
   "metadata": {},
   "outputs": [
    {
     "name": "stdout",
     "output_type": "stream",
     "text": [
      "16\n",
      "12\n",
      "23\n",
      "31\n"
     ]
    }
   ],
   "source": [
    "def hex_to_binary(hexi):\n",
    "    table = {'0':'0000', '1':'0001', '2':'0010', '3':'0011', '4':'0100',\n",
    "             '5':'0101', '6':'0110', '7':'0111', '8':'1000', '9':'1001',\n",
    "             'A':'1010', 'B':'1011', 'C':'1100', 'D':'1101', 'E':'1110',\n",
    "             'F':'1111'}\n",
    "    \n",
    "    bini = ''\n",
    "    for c in hexi:\n",
    "        bini += table[c]\n",
    "        \n",
    "    return bini\n",
    "\n",
    "def header(bini, depth):\n",
    "    vers, bini = bini[:3], bini[3:]\n",
    "    v = int(vers, 2)\n",
    "    \n",
    "    tpid, bini = bini[:3], bini[3:]\n",
    "    t = int(tpid, 2)\n",
    "    \n",
    "    if t == 4: #literal value\n",
    "        bini, val = literal_value(bini)\n",
    "        \n",
    "    else: #operator\n",
    "        bini, val, ver = operator(bini, t, deepcopy(depth))\n",
    "        v += ver\n",
    "        \n",
    "    return v, t, val, bini\n",
    "            \n",
    "def literal_value(bini):\n",
    "    op_bin = ''\n",
    "    value = ''\n",
    "    while bini[0] == '1':\n",
    "        value += bini[1:5]\n",
    "        op_bin += bini[:5]\n",
    "        bini = bini[5:]\n",
    "\n",
    "    #final block starts with 0\n",
    "    value += bini[1:5]\n",
    "    op_bin += bini[:5]\n",
    "    bini = bini[5:]\n",
    "    \n",
    "    val =  int(value, 2)\n",
    "    return bini, val\n",
    "\n",
    "def operator(bini, t, depth):\n",
    "    op_bin = ''\n",
    "    \n",
    "    depth += 1\n",
    "    i, bini = bini[0], bini[1:]\n",
    "    \n",
    "    op_bin += i\n",
    "    \n",
    "    if i == '0':\n",
    "        size = 15\n",
    "    elif i == '1':\n",
    "        size = 11\n",
    "    \n",
    "    length, bini = bini[:size], bini[size:]\n",
    "    lng = int(length, 2)\n",
    "    \n",
    "    op_bin += ' '+length\n",
    "    \n",
    "    ver = 0\n",
    "    vals = []\n",
    "    if i == '0':\n",
    "        sub_bini, bini = bini[:lng], bini[lng:]\n",
    "        op_bin += ' '+sub_bini\n",
    "        while len(sub_bini):\n",
    "            v, _, val, sub_bini = header(sub_bini, deepcopy(depth))\n",
    "            vals.append(val)\n",
    "            ver += v\n",
    "            if len(sub_bini) < 6:\n",
    "                break\n",
    "        \n",
    "    elif i == '1':\n",
    "        for j in range(0, lng):\n",
    "            tbini = deepcopy(bini)\n",
    "            \n",
    "            v, _, val, bini = header(bini, deepcopy(depth))\n",
    "            vals.append(val)\n",
    "            ver += v\n",
    "            \n",
    "            if len(bini) > 0:\n",
    "                tbini = tbini[:-len(bini)]\n",
    "            op_bin += ' '+tbini\n",
    "                       \n",
    "    if t == 0:\n",
    "        op_val = np.sum(vals, dtype=np.int64)\n",
    "    elif t == 1:\n",
    "        op_val = np.prod(vals, dtype=np.int64)\n",
    "    elif t == 2:\n",
    "        op_val = np.min(vals)\n",
    "    elif t == 3:\n",
    "        op_val = np.max(vals)\n",
    "    elif t == 5:\n",
    "        op_val = int(vals[0] > vals[1])\n",
    "    elif t == 6:\n",
    "        op_val = int(vals[0] < vals[1])\n",
    "    elif t == 7:\n",
    "        op_val = int(vals[0] == vals[1])\n",
    "    else:\n",
    "        print(t)\n",
    "        \n",
    "    return bini, op_val, ver\n",
    "\n",
    "def parse_packet(data):\n",
    "    bini = hex_to_binary(data)\n",
    "    version = 0\n",
    "    \n",
    "    depth = 0\n",
    "    \n",
    "    while len(bini) > 6:\n",
    "        if int(bini, 2) == 0:\n",
    "            break\n",
    "        vers, tpid, val, bini = header(bini, depth)\n",
    "        version += vers\n",
    "    return version, val\n",
    "\n",
    "#print(parse_packet('D2FE28'))\n",
    "#print(parse_packet('38006F45291200'))\n",
    "print(parse_packet(test1)[0])\n",
    "print(parse_packet(test2)[0])\n",
    "print(parse_packet(test3)[0])\n",
    "print(parse_packet(test4)[0])"
   ]
  },
  {
   "cell_type": "code",
   "execution_count": 4,
   "metadata": {},
   "outputs": [
    {
     "name": "stdout",
     "output_type": "stream",
     "text": [
      "Part1 Result: 943\n"
     ]
    }
   ],
   "source": [
    "inpt = np.genfromtxt('day16_input.txt', dtype=str, delimiter='\\n')\n",
    "inpt = str(inpt)\n",
    "print('Part1 Result:', parse_packet(inpt)[0])"
   ]
  },
  {
   "cell_type": "markdown",
   "metadata": {},
   "source": [
    "# Part 2"
   ]
  },
  {
   "cell_type": "code",
   "execution_count": 5,
   "metadata": {
    "scrolled": true
   },
   "outputs": [
    {
     "name": "stdout",
     "output_type": "stream",
     "text": [
      "3\n",
      "54\n",
      "7\n",
      "9\n",
      "1\n",
      "0\n",
      "0\n",
      "1\n"
     ]
    }
   ],
   "source": [
    "tests = ['C200B40A82',\n",
    "         '04005AC33890',\n",
    "         '880086C3E88112',\n",
    "         'CE00C43D881120',\n",
    "         'D8005AC2A8F0',\n",
    "         'F600BC2D8F',\n",
    "         '9C005AC2F8F0',\n",
    "         '9C0141080250320F1802104A08']\n",
    "\n",
    "for test in tests:\n",
    "    print(parse_packet(test)[1])"
   ]
  },
  {
   "cell_type": "code",
   "execution_count": 6,
   "metadata": {
    "scrolled": true
   },
   "outputs": [
    {
     "name": "stdout",
     "output_type": "stream",
     "text": [
      "Part2 Result: 167737115857\n"
     ]
    }
   ],
   "source": [
    "print('Part2 Result:', parse_packet(inpt)[1])"
   ]
  },
  {
   "cell_type": "code",
   "execution_count": null,
   "metadata": {},
   "outputs": [],
   "source": []
  }
 ],
 "metadata": {
  "kernelspec": {
   "display_name": "Python 3",
   "language": "python",
   "name": "python3"
  },
  "language_info": {
   "codemirror_mode": {
    "name": "ipython",
    "version": 3
   },
   "file_extension": ".py",
   "mimetype": "text/x-python",
   "name": "python",
   "nbconvert_exporter": "python",
   "pygments_lexer": "ipython3",
   "version": "3.8.5"
  }
 },
 "nbformat": 4,
 "nbformat_minor": 4
}
