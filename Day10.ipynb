{
 "cells": [
  {
   "cell_type": "code",
   "execution_count": 1,
   "metadata": {},
   "outputs": [],
   "source": [
    "import numpy as np"
   ]
  },
  {
   "cell_type": "markdown",
   "metadata": {},
   "source": [
    "# Part 1"
   ]
  },
  {
   "cell_type": "code",
   "execution_count": 2,
   "metadata": {},
   "outputs": [],
   "source": [
    "test = np.array(['[({(<(())[]>[[{[]{<()<>>',\n",
    "                 '[(()[<>])]({[<{<<[]>>(',\n",
    "                 '{([(<{}[<>[]}>{[]{[(<()>',\n",
    "                 '(((({<>}<{<{<>}{[]{[]{}',\n",
    "                 '[[<[([]))<([[{}[[()]]]',\n",
    "                 '[{[{({}]{}}([{[{{{}}([]',\n",
    "                 '{<[[]]>}<{[{[{[]{()[[[]',\n",
    "                 '[<(<(<(<{}))><([]([]()',\n",
    "                 '<{([([[(<>()){}]>(<<{{',\n",
    "                 '<{([{{}}[<[[[<>{}]]]>[]]'])"
   ]
  },
  {
   "cell_type": "code",
   "execution_count": 3,
   "metadata": {},
   "outputs": [
    {
     "name": "stdout",
     "output_type": "stream",
     "text": [
      "26397\n"
     ]
    }
   ],
   "source": [
    "def syntax_score(data, part):\n",
    "    score_part1 = 0\n",
    "    score_part2 = []\n",
    "    for line in data:\n",
    "        \n",
    "        #Remove matched brackets. Keep going until nothing is removed\n",
    "        while True:\n",
    "            len1 = len(line)\n",
    "            line = line.replace('()', '')\n",
    "            line = line.replace('[]', '')\n",
    "            line = line.replace('{}', '')\n",
    "            line = line.replace('<>', '')\n",
    "            len2 = len(line)\n",
    "            if len1 == len2:\n",
    "                break\n",
    "                \n",
    "        if len2 == 0:\n",
    "            continue\n",
    "              \n",
    "        #Find closing brackets\n",
    "        brac = np.array([line.find(')'), line.find(']'), line.find('}'), line.find('>')])\n",
    "        \n",
    "        #If there are none, line is incomplete\n",
    "        if np.sum(brac) == -4:\n",
    "            score = 0\n",
    "            #Work backwards to complete the line\n",
    "            for i in range(len(line)-1, -1, -1):\n",
    "                score *= 5\n",
    "                if line[i] == '(':\n",
    "                    score += 1\n",
    "                elif line[i] == '[':\n",
    "                    score += 2\n",
    "                elif line[i] == '{':\n",
    "                    score += 3\n",
    "                elif line[i] == '<':\n",
    "                    score += 4\n",
    "            score_part2.append(score)\n",
    "            \n",
    "        #Else line is corrupt\n",
    "        else:\n",
    "            #Want to ignore missing closing brackets\n",
    "            nve = np.where(brac < 0)[0]\n",
    "            #So set the value high\n",
    "            brac[nve] = 100\n",
    "            first = np.argmin(brac)\n",
    "            \n",
    "            if first == 0: #)\n",
    "                score_part1 += 3\n",
    "            elif first == 1: #]\n",
    "                score_part1 += 57\n",
    "            elif first == 2: #}\n",
    "                score_part1 += 1197\n",
    "            elif first == 3: #>\n",
    "                score_part1 += 25137\n",
    "        \n",
    "    if part == 1:\n",
    "        return np.sum(score_part1)\n",
    "        \n",
    "    else:# part == 2:\n",
    "        score_part2 = np.sort(score_part2)\n",
    "        idx = int(len(score_part2)//2)\n",
    "        return score_part2[idx]\n",
    "    \n",
    "    return\n",
    "\n",
    "print(syntax_score(test, 1))"
   ]
  },
  {
   "cell_type": "code",
   "execution_count": 4,
   "metadata": {},
   "outputs": [
    {
     "name": "stdout",
     "output_type": "stream",
     "text": [
      "Part 1 Result: 299793\n"
     ]
    }
   ],
   "source": [
    "inpt = np.genfromtxt('day10_input.txt', dtype=str, delimiter='\\n')\n",
    "print('Part 1 Result:', syntax_score(inpt, 1))"
   ]
  },
  {
   "cell_type": "markdown",
   "metadata": {},
   "source": [
    "# Part 2"
   ]
  },
  {
   "cell_type": "code",
   "execution_count": 5,
   "metadata": {},
   "outputs": [
    {
     "name": "stdout",
     "output_type": "stream",
     "text": [
      "288957\n"
     ]
    }
   ],
   "source": [
    "print(syntax_score(test, 2))"
   ]
  },
  {
   "cell_type": "code",
   "execution_count": 6,
   "metadata": {},
   "outputs": [
    {
     "name": "stdout",
     "output_type": "stream",
     "text": [
      "Part 2 Result: 3654963618\n"
     ]
    }
   ],
   "source": [
    "print('Part 2 Result:', syntax_score(inpt, 2))"
   ]
  },
  {
   "cell_type": "code",
   "execution_count": null,
   "metadata": {},
   "outputs": [],
   "source": []
  }
 ],
 "metadata": {
  "kernelspec": {
   "display_name": "Python 3",
   "language": "python",
   "name": "python3"
  },
  "language_info": {
   "codemirror_mode": {
    "name": "ipython",
    "version": 3
   },
   "file_extension": ".py",
   "mimetype": "text/x-python",
   "name": "python",
   "nbconvert_exporter": "python",
   "pygments_lexer": "ipython3",
   "version": "3.6.9"
  }
 },
 "nbformat": 4,
 "nbformat_minor": 4
}
