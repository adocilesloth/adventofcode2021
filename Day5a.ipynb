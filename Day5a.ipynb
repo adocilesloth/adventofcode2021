{
 "cells": [
  {
   "cell_type": "code",
   "execution_count": 1,
   "metadata": {},
   "outputs": [],
   "source": [
    "import numpy as np\n",
    "from copy import copy"
   ]
  },
  {
   "cell_type": "markdown",
   "metadata": {},
   "source": [
    "Brute force for Day 5 as using clever maths (Day5.ipynb) was throwing errors I couldn't trace"
   ]
  },
  {
   "cell_type": "markdown",
   "metadata": {},
   "source": [
    "# Part 1"
   ]
  },
  {
   "cell_type": "code",
   "execution_count": 2,
   "metadata": {},
   "outputs": [],
   "source": [
    "test = np.array(['0,9 -> 5,9',\n",
    "                 '8,0 -> 0,8',\n",
    "                 '9,4 -> 3,4',\n",
    "                 '2,2 -> 2,1',\n",
    "                 '7,0 -> 7,4',\n",
    "                 '6,4 -> 2,0',\n",
    "                 '0,9 -> 2,9',\n",
    "                 '3,4 -> 1,4',\n",
    "                 '0,0 -> 8,8',\n",
    "                 '5,5 -> 8,2'])"
   ]
  },
  {
   "cell_type": "code",
   "execution_count": 3,
   "metadata": {},
   "outputs": [],
   "source": [
    "def get_lines(data):\n",
    "    #Convert input into line start/end coordinates\n",
    "    lines = []\n",
    "    for line in data:\n",
    "        p_s, q_s = line.split(' -> ')\n",
    "        p_s = p_s.split(',')\n",
    "        p_s = np.array(p_s).astype(int)\n",
    "        q_s = q_s.split(',')\n",
    "        q_s = np.array(q_s).astype(int)\n",
    "        lines.append([p_s, q_s])\n",
    "    lines = np.array(lines)\n",
    "    return lines\n",
    "\n",
    "def keep_horizontal_verticle(lines):\n",
    "    #Only keep horizontal orverticle lines\n",
    "    delete = []\n",
    "    for i in range(0, len(lines)):\n",
    "        if lines[i][0,0] != lines[i][1,0] and lines[i][0,1] != lines[i][1,1]:\n",
    "            delete.append(i)\n",
    "    lines = np.delete(lines, delete, 0)\n",
    "    return lines\n",
    "\n",
    "def generate_line(line):\n",
    "    #Create coordinates for line\n",
    "    dxdy = np.array([0,0])\n",
    "    if line[0,0] == line[1,0]:\n",
    "        #verticle line\n",
    "        dxdy[1] += 1\n",
    "    elif line[0,1] == line[1,1]:\n",
    "        #horizontal line\n",
    "        dxdy[0] += 1\n",
    "    else:\n",
    "        #diagonal line\n",
    "        dxdy[0] += 1\n",
    "        dxdy[1] += 1\n",
    "        \n",
    "    #check the direction we need to go\n",
    "    if line[0,0] > line[1,0]:\n",
    "        dxdy[0] *= -1\n",
    "    if line[0,1] > line[1,1]:\n",
    "        dxdy[1] *= -1\n",
    "        \n",
    "    #calculate line coordinates\n",
    "    line_positions = [copy(line[0])]\n",
    "    while True:\n",
    "        line[0] += dxdy\n",
    "        line_positions.append(copy(line[0]))\n",
    "        if line[0,0] == line[1,0] and line[0,1] == line[1,1]:\n",
    "            break\n",
    "    return np.array(line_positions)\n",
    "\n",
    "def line_intersection(line0_positions, line1_positions):\n",
    "    #Find where lines intersect\n",
    "    #i.e. find which line coordinates are the same\n",
    "    overlap = []\n",
    "    for pos in line1_positions:\n",
    "        if np.equal(line0_positions, pos).all(1).any():\n",
    "            overlap.append(pos)\n",
    "    overlap = np.array(overlap)\n",
    "    return overlap\n",
    "\n",
    "def count_intersections(data, xy=True):\n",
    "    lines = get_lines(data)\n",
    "    if xy:\n",
    "        lines = keep_horizontal_verticle(lines)    \n",
    "    line_positions =[]\n",
    "    for i in range(0, len(lines)):\n",
    "        line_positions.append(generate_line(copy(lines[i])))\n",
    "    \n",
    "    #For every line, check if it intersects the following lines\n",
    "    cross = {}\n",
    "    for i in range(0, len(lines)-1):\n",
    "        line0_positions = line_positions[i]\n",
    "        for j in range(i+1, len(lines)):\n",
    "            line1_positions = line_positions[j]\n",
    "            intct = line_intersection(line0_positions, line1_positions)\n",
    "            if len(intct) > 0:\n",
    "                for c in intct:\n",
    "                    if tuple(c) not in cross.keys():\n",
    "                        cross[tuple(c)] = 1\n",
    "                    else:\n",
    "                        cross[tuple(c)] +=1\n",
    "    return len(cross.keys())"
   ]
  },
  {
   "cell_type": "code",
   "execution_count": 4,
   "metadata": {},
   "outputs": [
    {
     "name": "stdout",
     "output_type": "stream",
     "text": [
      "5\n"
     ]
    }
   ],
   "source": [
    "print(count_intersections(test))"
   ]
  },
  {
   "cell_type": "code",
   "execution_count": 5,
   "metadata": {},
   "outputs": [
    {
     "name": "stdout",
     "output_type": "stream",
     "text": [
      "Part 1 Result: 7438\n"
     ]
    }
   ],
   "source": [
    "inpt = np.genfromtxt('day5_input.txt', dtype=str, delimiter='\\n')\n",
    "print('Part 1 Result:', count_intersections(inpt))"
   ]
  },
  {
   "cell_type": "markdown",
   "metadata": {},
   "source": [
    "# Part 2"
   ]
  },
  {
   "cell_type": "code",
   "execution_count": 6,
   "metadata": {},
   "outputs": [
    {
     "name": "stdout",
     "output_type": "stream",
     "text": [
      "12\n"
     ]
    }
   ],
   "source": [
    "print(count_intersections(test, False))"
   ]
  },
  {
   "cell_type": "code",
   "execution_count": 7,
   "metadata": {},
   "outputs": [
    {
     "name": "stdout",
     "output_type": "stream",
     "text": [
      "Part 2 Result: 21406\n"
     ]
    }
   ],
   "source": [
    "print('Part 2 Result:', count_intersections(inpt, False))"
   ]
  },
  {
   "cell_type": "code",
   "execution_count": null,
   "metadata": {},
   "outputs": [],
   "source": []
  }
 ],
 "metadata": {
  "kernelspec": {
   "display_name": "Python 3",
   "language": "python",
   "name": "python3"
  },
  "language_info": {
   "codemirror_mode": {
    "name": "ipython",
    "version": 3
   },
   "file_extension": ".py",
   "mimetype": "text/x-python",
   "name": "python",
   "nbconvert_exporter": "python",
   "pygments_lexer": "ipython3",
   "version": "3.8.5"
  }
 },
 "nbformat": 4,
 "nbformat_minor": 4
}
