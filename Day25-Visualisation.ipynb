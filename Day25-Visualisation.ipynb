{
 "cells": [
  {
   "cell_type": "code",
   "execution_count": 1,
   "metadata": {},
   "outputs": [],
   "source": [
    "import numpy as np\n",
    "from copy import deepcopy\n",
    "\n",
    "from PIL import Image\n",
    "import imageio\n",
    "\n",
    "import matplotlib.pyplot as plt\n",
    "%matplotlib inline"
   ]
  },
  {
   "cell_type": "code",
   "execution_count": 2,
   "metadata": {},
   "outputs": [],
   "source": [
    "def process_input(data):\n",
    "    x = len(data)\n",
    "    y = len(data[0])\n",
    "    floor = np.empty((x,y), dtype=int)\n",
    "    vis_key = {'.':0, '>':1, 'v':2}\n",
    "    for i in range(0, len(data)):\n",
    "        for j in range(0, len(data[i])):\n",
    "                floor[i][j] = vis_key[data[i][j]]\n",
    "                \n",
    "    return floor\n",
    "\n",
    "def move_cucumbers(floor, frames, stp):\n",
    "    new_floor = deepcopy(floor)\n",
    "    #east-west (>)\n",
    "    for i in range(0, len(floor)):\n",
    "        for j in range(0, len(floor[i])):\n",
    "            if floor[i][j] == 1:\n",
    "                if j < len(floor[i])-1:\n",
    "                    if floor[i][j+1] == 0:\n",
    "                        #print('> at', i,j)\n",
    "                        new_floor[i][j] = 0\n",
    "                        new_floor[i][j+1] = 1\n",
    "                else:\n",
    "                    if floor[i][0] == 0:\n",
    "                        #print('> at', i,j)\n",
    "                        new_floor[i][j] = 0\n",
    "                        new_floor[i][0] = 1\n",
    "    floor = deepcopy(new_floor)\n",
    "    #north-south (v)\n",
    "    for i in range(0, len(floor)):\n",
    "        for j in range(0, len(floor[i])):\n",
    "            if floor[i][j] == 2:\n",
    "                if i < len(floor)-1:\n",
    "                    if floor[i+1][j] == 0:\n",
    "                        new_floor[i][j] = 0\n",
    "                        new_floor[i+1][j] = 2\n",
    "                else:\n",
    "                    if floor[0][j] == 0:\n",
    "                        new_floor[i][j] = 0\n",
    "                        new_floor[0][j] = 2\n",
    "                        \n",
    "    frames = print_floor(new_floor, frames, stp)\n",
    "                        \n",
    "    return new_floor\n",
    "\n",
    "def print_floor(floor, frames, stp):\n",
    "    clrs = np.array([[114, 25, 14],\n",
    "                     [ 25,101,176],\n",
    "                     [ 78,178,101]])\n",
    "    \n",
    "    floor_img = np.ones((floor.shape[0],floor.shape[1],3), dtype=int)    \n",
    "    for i in range(0, len(floor)):\n",
    "        for j in range(0, len(floor[i])):\n",
    "            floor_img[i][j] = clrs[floor[i][j]]\n",
    "            \n",
    "    #plt.imshow(floor_img)\n",
    "    #plt.show()\n",
    "            \n",
    "    image = Image.fromarray(floor_img.astype('uint8'), mode='RGB')\n",
    "    image = image.resize((floor.shape[0]*4,floor.shape[1]*4), resample=Image.NEAREST)\n",
    "    image.save('./frames/day25_'+str(stp).zfill(4)+'.png')\n",
    "    frames.append(np.array(image))\n",
    "    return frames\n",
    "\n",
    "def array_equal(a1, a2):\n",
    "    if a1.shape != a2.shape:\n",
    "        return False\n",
    "    for i in range(0, len(a1)):\n",
    "        for j in range(0, len(a2)):\n",
    "            if a1[i][j] != a2[i][j]:\n",
    "                return False\n",
    "    return True\n",
    "\n",
    "def clear_floor(data):\n",
    "    floor = process_input(data)\n",
    "    stp = 0\n",
    "    last_floor = deepcopy(floor)\n",
    "    frames = []\n",
    "    \n",
    "    #print_floor(floor)    \n",
    "    while True:\n",
    "        floor = move_cucumbers(floor, frames, stp)\n",
    "        stp += 1\n",
    "        if array_equal(floor, last_floor):\n",
    "            #print_floor(floor)\n",
    "            return stp\n",
    "        last_floor = deepcopy(floor)"
   ]
  },
  {
   "cell_type": "code",
   "execution_count": 3,
   "metadata": {},
   "outputs": [
    {
     "name": "stdout",
     "output_type": "stream",
     "text": [
      "Part 1 Result: 351\n"
     ]
    }
   ],
   "source": [
    "inpt = np.genfromtxt('day25_input.txt', dtype=str, delimiter='\\n')\n",
    "print('Part 1 Result:', clear_floor(inpt))"
   ]
  },
  {
   "cell_type": "code",
   "execution_count": null,
   "metadata": {},
   "outputs": [],
   "source": []
  }
 ],
 "metadata": {
  "kernelspec": {
   "display_name": "Python 3",
   "language": "python",
   "name": "python3"
  },
  "language_info": {
   "codemirror_mode": {
    "name": "ipython",
    "version": 3
   },
   "file_extension": ".py",
   "mimetype": "text/x-python",
   "name": "python",
   "nbconvert_exporter": "python",
   "pygments_lexer": "ipython3",
   "version": "3.8.5"
  }
 },
 "nbformat": 4,
 "nbformat_minor": 4
}
