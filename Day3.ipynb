{
 "cells": [
  {
   "cell_type": "code",
   "execution_count": 1,
   "metadata": {},
   "outputs": [],
   "source": [
    "import numpy as np\n",
    "from copy import deepcopy"
   ]
  },
  {
   "cell_type": "markdown",
   "metadata": {},
   "source": [
    "# Part 1"
   ]
  },
  {
   "cell_type": "code",
   "execution_count": 2,
   "metadata": {},
   "outputs": [
    {
     "name": "stdout",
     "output_type": "stream",
     "text": [
      "10110 01001\n",
      "22 9\n",
      "198\n"
     ]
    }
   ],
   "source": [
    "test = np.array(['00100', '11110', '10110', '10111', '10101', '01111',\n",
    "                 '00111', '11100', '10000', '11001', '00010', '01010'])\n",
    "\n",
    "gamma = ''\n",
    "epsilon = ''\n",
    "\n",
    "for i in range(0, len(test[0])):\n",
    "    summ = 0\n",
    "    for j in range(0, len(test)):\n",
    "        summ += int(test[j][i])\n",
    "    summ /= len(test)\n",
    "    summ = int(round(summ,0))\n",
    "    if summ == 1:\n",
    "        gamma += '1'\n",
    "        epsilon += '0'\n",
    "    else:\n",
    "        gamma += '0'\n",
    "        epsilon += '1'\n",
    "print(gamma, epsilon)\n",
    "gamma_int = int(gamma, 2)\n",
    "epsilon_int = int(epsilon, 2)\n",
    "print(gamma_int, epsilon_int)\n",
    "print(gamma_int*epsilon_int)"
   ]
  },
  {
   "cell_type": "code",
   "execution_count": 3,
   "metadata": {},
   "outputs": [
    {
     "name": "stdout",
     "output_type": "stream",
     "text": [
      "Part 1 Result: 3549854\n"
     ]
    }
   ],
   "source": [
    "inpt = np.genfromtxt('day3_input.txt', dtype=str, delimiter='\\n')\n",
    "\n",
    "gamma = ''\n",
    "epsilon = ''\n",
    "\n",
    "for i in range(0, len(inpt[0])):\n",
    "    summ = 0\n",
    "    for j in range(0, len(inpt)):\n",
    "        summ += int(inpt[j][i])\n",
    "    summ /= len(inpt)\n",
    "    summ = int(round(summ,0))\n",
    "    if summ == 1:\n",
    "        gamma += '1'\n",
    "        epsilon += '0'\n",
    "    else:\n",
    "        gamma += '0'\n",
    "        epsilon += '1'\n",
    "        \n",
    "gamma_int = int(gamma, 2)\n",
    "epsilon_int = int(epsilon, 2)\n",
    "print('Part 1 Result:', gamma_int*epsilon_int)"
   ]
  },
  {
   "cell_type": "markdown",
   "metadata": {},
   "source": [
    "# Part 2"
   ]
  },
  {
   "cell_type": "code",
   "execution_count": 4,
   "metadata": {},
   "outputs": [],
   "source": [
    "def keep_bit(diagnostic, bit, most_common=True):\n",
    "    summ = 0\n",
    "    for i in range(0, len(diagnostic)):\n",
    "        summ += int(diagnostic[i][bit])\n",
    "    summ /= len(diagnostic)\n",
    "    \n",
    "    if most_common:\n",
    "        if summ < 0.5:\n",
    "            target = '0'\n",
    "        elif summ > 0.5:\n",
    "            target = '1'\n",
    "        else:\n",
    "            target = '1'\n",
    "    else:\n",
    "        if summ < 0.5:\n",
    "            target = '1'\n",
    "        elif summ > 0.5:\n",
    "            target = '0'\n",
    "        else:\n",
    "            target = '0'\n",
    "    \n",
    "    delete = []\n",
    "    for i in range(0, len(diagnostic)):\n",
    "        if diagnostic[i][bit] != target:\n",
    "            delete.append(i)\n",
    "    return np.delete(diagnostic, delete)"
   ]
  },
  {
   "cell_type": "code",
   "execution_count": 5,
   "metadata": {},
   "outputs": [
    {
     "name": "stdout",
     "output_type": "stream",
     "text": [
      "10111 01010\n",
      "23 10\n",
      "230\n"
     ]
    }
   ],
   "source": [
    "oxygen = deepcopy(test)\n",
    "for i in range(0, len(oxygen[0])):\n",
    "    oxygen = keep_bit(oxygen, i)\n",
    "    if len(oxygen) == 1:\n",
    "        oxygen = oxygen[0]\n",
    "        break\n",
    "        \n",
    "co2 = deepcopy(test)\n",
    "for i in range(0, len(co2[0])):\n",
    "    co2 = keep_bit(co2, i, False)\n",
    "    if len(co2) == 1:\n",
    "        co2 = co2[0]\n",
    "        break\n",
    "        \n",
    "print(oxygen, co2)\n",
    "oxygen_int = int(oxygen, 2)\n",
    "co2_int = int(co2, 2)\n",
    "print(oxygen_int, co2_int)\n",
    "print(oxygen_int*co2_int)"
   ]
  },
  {
   "cell_type": "code",
   "execution_count": 6,
   "metadata": {},
   "outputs": [
    {
     "name": "stdout",
     "output_type": "stream",
     "text": [
      "Part 2 Result: 3765399\n"
     ]
    }
   ],
   "source": [
    "oxygen = deepcopy(inpt)\n",
    "\n",
    "for i in range(0, len(oxygen[0])):\n",
    "    oxygen = keep_bit(oxygen, i)\n",
    "    if len(oxygen) == 1:\n",
    "        oxygen = oxygen[0]\n",
    "        break\n",
    "        \n",
    "co2 = deepcopy(inpt)\n",
    "for i in range(0, len(co2[0])):\n",
    "    co2 = keep_bit(co2, i, False)\n",
    "    if len(co2) == 1:\n",
    "        co2 = co2[0]\n",
    "        break\n",
    "        \n",
    "oxygen_int = int(oxygen, 2)\n",
    "co2_int = int(co2, 2)\n",
    "print('Part 2 Result:', oxygen_int*co2_int)"
   ]
  },
  {
   "cell_type": "code",
   "execution_count": null,
   "metadata": {},
   "outputs": [],
   "source": []
  }
 ],
 "metadata": {
  "kernelspec": {
   "display_name": "Python 3",
   "language": "python",
   "name": "python3"
  },
  "language_info": {
   "codemirror_mode": {
    "name": "ipython",
    "version": 3
   },
   "file_extension": ".py",
   "mimetype": "text/x-python",
   "name": "python",
   "nbconvert_exporter": "python",
   "pygments_lexer": "ipython3",
   "version": "3.6.9"
  }
 },
 "nbformat": 4,
 "nbformat_minor": 4
}
