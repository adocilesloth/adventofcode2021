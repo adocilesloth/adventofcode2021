{
 "cells": [
  {
   "cell_type": "code",
   "execution_count": 1,
   "metadata": {},
   "outputs": [],
   "source": [
    "import numpy as np\n",
    "from collections import deque"
   ]
  },
  {
   "cell_type": "markdown",
   "metadata": {},
   "source": [
    "# Part 1"
   ]
  },
  {
   "cell_type": "code",
   "execution_count": 2,
   "metadata": {},
   "outputs": [
    {
     "name": "stdout",
     "output_type": "stream",
     "text": [
      "1656\n"
     ]
    }
   ],
   "source": [
    "test = np.array(['5483143223',\n",
    "                 '2745854711',\n",
    "                 '5264556173',\n",
    "                 '6141336146',\n",
    "                 '6357385478',\n",
    "                 '4167524645',\n",
    "                 '2176841721',\n",
    "                 '6882881134',\n",
    "                 '4846848554',\n",
    "                 '5283751526'])\n",
    "\n",
    "def process_input(data):\n",
    "    nums = []\n",
    "    for line in data:\n",
    "        nums.append(list(line))\n",
    "    return np.array(nums).astype(int)\n",
    "\n",
    "def step(data):\n",
    "    data += 1\n",
    "    flashed = {}\n",
    "    \n",
    "    to_flash = np.where(data > 9)\n",
    "    \n",
    "    for i in range(0, len(to_flash[0])):\n",
    "        flashed[(to_flash[0][i],to_flash[1][i])] = True\n",
    "        \n",
    "    queue = deque(flashed.keys())\n",
    "        \n",
    "    while len(queue):\n",
    "        cur_pos = queue.popleft()\n",
    "        for dx in range(-1,2):\n",
    "            for dy in range(-1,2):\n",
    "                if dx == 0 and dy == 0:\n",
    "                    continue\n",
    "                nxt_pos = (cur_pos[0]+dx, cur_pos[1]+dy)\n",
    "                if nxt_pos[0] < 0 or nxt_pos[1] < 0 or nxt_pos[0] > len(data)-1 or nxt_pos[1] > len(data[nxt_pos[0]]) - 1:\n",
    "                    continue\n",
    "                if nxt_pos not in flashed.keys():\n",
    "                    data[nxt_pos[0],nxt_pos[1]] += 1\n",
    "                    if data[nxt_pos[0],nxt_pos[1]] > 9:\n",
    "                        queue.append(nxt_pos)\n",
    "                        flashed[nxt_pos] = True\n",
    "    \n",
    "    flash_count = 0\n",
    "    for key in flashed.keys():\n",
    "        data[key[0],key[1]] = 0\n",
    "        flash_count += 1\n",
    "        \n",
    "    return data, flash_count\n",
    "\n",
    "def run_octopodies(data, steps):\n",
    "    data = process_input(data)\n",
    "    flash_count = 0\n",
    "    for s in range(0, steps):\n",
    "        data, count = step(data)\n",
    "        flash_count += count\n",
    "        \n",
    "    return flash_count\n",
    "print(run_octopodies(test, 100))"
   ]
  },
  {
   "cell_type": "code",
   "execution_count": 3,
   "metadata": {},
   "outputs": [
    {
     "name": "stdout",
     "output_type": "stream",
     "text": [
      "Part 1 Result: 1599\n"
     ]
    }
   ],
   "source": [
    "inpt = np.genfromtxt('day11_input.txt', dtype=str, delimiter='\\n')\n",
    "print('Part 1 Result:', run_octopodies(inpt, 100))"
   ]
  },
  {
   "cell_type": "markdown",
   "metadata": {},
   "source": [
    "# Part 1"
   ]
  },
  {
   "cell_type": "code",
   "execution_count": 4,
   "metadata": {},
   "outputs": [
    {
     "name": "stdout",
     "output_type": "stream",
     "text": [
      "195\n"
     ]
    }
   ],
   "source": [
    "def synchronise_octopodies(data):\n",
    "    data = process_input(data)\n",
    "    \n",
    "    step_count = 0\n",
    "    while np.sum(data):\n",
    "        data, _ = step(data)\n",
    "        step_count += 1\n",
    "        \n",
    "    return step_count\n",
    "\n",
    "print(synchronise_octopodies(test))"
   ]
  },
  {
   "cell_type": "code",
   "execution_count": 5,
   "metadata": {},
   "outputs": [
    {
     "name": "stdout",
     "output_type": "stream",
     "text": [
      "Part 2 Result: 418\n"
     ]
    }
   ],
   "source": [
    "print('Part 2 Result:', synchronise_octopodies(inpt))"
   ]
  },
  {
   "cell_type": "code",
   "execution_count": null,
   "metadata": {},
   "outputs": [],
   "source": []
  }
 ],
 "metadata": {
  "kernelspec": {
   "display_name": "Python 3",
   "language": "python",
   "name": "python3"
  },
  "language_info": {
   "codemirror_mode": {
    "name": "ipython",
    "version": 3
   },
   "file_extension": ".py",
   "mimetype": "text/x-python",
   "name": "python",
   "nbconvert_exporter": "python",
   "pygments_lexer": "ipython3",
   "version": "3.8.5"
  }
 },
 "nbformat": 4,
 "nbformat_minor": 4
}
