{
 "cells": [
  {
   "cell_type": "code",
   "execution_count": 1,
   "metadata": {},
   "outputs": [],
   "source": [
    "import numpy as np"
   ]
  },
  {
   "cell_type": "markdown",
   "metadata": {},
   "source": [
    "# Part 1"
   ]
  },
  {
   "cell_type": "code",
   "execution_count": 2,
   "metadata": {},
   "outputs": [],
   "source": [
    "digits = {0:['abcefg', 6],\n",
    "          1:['cf',     2],\n",
    "          2:['acdeg',  5],\n",
    "          3:['acdfg',  5],\n",
    "          4:['bcdf',   4],\n",
    "          5:['abdfg',  5],\n",
    "          6:['abdefg', 6],\n",
    "          7:['acf',    3],\n",
    "          8:['abcdefg',7],\n",
    "          9:['abcdfg', 6]}\n",
    "\n",
    "sgment = {'abcefg': '0',\n",
    "          'cf':     '1',\n",
    "          'acdeg':  '2',\n",
    "          'acdfg':  '3',\n",
    "          'bcdf':   '4',\n",
    "          'abdfg':  '5',\n",
    "          'abdefg': '6',\n",
    "          'acf':    '7',\n",
    "          'abcdefg':'8',\n",
    "          'abcdfg': '9'}"
   ]
  },
  {
   "cell_type": "code",
   "execution_count": 3,
   "metadata": {},
   "outputs": [],
   "source": [
    "tst = np.array(['acedgfb cdfbe gcdfa fbcad dab cefabd cdfgeb eafb cagedb ab | cdfeb fcadb cdfeb cdbaf'])\n",
    "\n",
    "test = np.array(['be cfbegad cbdgef fgaecd cgeb fdcge agebfd fecdb fabcd edb | fdgacbe cefdb cefbgd gcbe',\n",
    "                 'edbfga begcd cbg gc gcadebf fbgde acbgfd abcde gfcbed gfec | fcgedb cgb dgebacf gc',\n",
    "                 'fgaebd cg bdaec gdafb agbcfd gdcbef bgcad gfac gcb cdgabef | cg cg fdcagb cbg',\n",
    "                 'fbegcd cbd adcefb dageb afcb bc aefdc ecdab fgdeca fcdbega | efabcd cedba gadfec cb',\n",
    "                 'aecbfdg fbg gf bafeg dbefa fcge gcbea fcaegb dgceab fcbdga | gecf egdcabf bgf bfgea',\n",
    "                 'fgeab ca afcebg bdacfeg cfaedg gcfdb baec bfadeg bafgc acf | gebdcfa ecba ca fadegcb',\n",
    "                 'dbcfg fgd bdegcaf fgec aegbdf ecdfab fbedc dacgb gdcebf gf | cefg dcbef fcge gbcadfe',\n",
    "                 'bdfegc cbegaf gecbf dfcage bdacg ed bedf ced adcbefg gebcd | ed bcgafe cdgba cbgef',\n",
    "                 'egadfb cdbfeg cegd fecab cgb gbdefca cg fgcdab egfdb bfceg | gbdfcae bgc cg cgb',\n",
    "                 'gcafb gcf dcaebfg ecagb gf abcdeg gaef cafbge fdbac fegbdc | fgae cfgab fg bagce'])"
   ]
  },
  {
   "cell_type": "code",
   "execution_count": 4,
   "metadata": {},
   "outputs": [
    {
     "name": "stdout",
     "output_type": "stream",
     "text": [
      "26\n"
     ]
    }
   ],
   "source": [
    "def split_in_out(data):\n",
    "    out = []\n",
    "    bot = []\n",
    "    for line in data:\n",
    "        i, o = line.split(' | ')\n",
    "        line_in = i.split(' ')\n",
    "        line_out = o.split(' ')\n",
    "        out.append(line_out)\n",
    "        b = line_in + line_out\n",
    "        bot.append(b)\n",
    "    return out, np.array(bot)\n",
    "\n",
    "def count_unique(data):\n",
    "    count = 0\n",
    "    for i in range(0, len(data)):\n",
    "        for j in range(0, len(data[i])):\n",
    "            print\n",
    "            if len(data[i][j]) == digits[1][1] or len(data[i][j]) == digits[4][1] or\\\n",
    "                len(data[i][j]) == digits[7][1] or len(data[i][j]) == digits[8][1]:\n",
    "                count += 1\n",
    "    return count\n",
    "\n",
    "def part1(data):\n",
    "    out, _ = split_in_out(data)\n",
    "    return count_unique(out)\n",
    "\n",
    "print(part1(test))"
   ]
  },
  {
   "cell_type": "code",
   "execution_count": 5,
   "metadata": {},
   "outputs": [
    {
     "name": "stdout",
     "output_type": "stream",
     "text": [
      "Part 1 Result: 245\n"
     ]
    }
   ],
   "source": [
    "inpt = np.genfromtxt('day8_input.txt', dtype=str, delimiter='\\n')\n",
    "print('Part 1 Result:', part1(inpt))"
   ]
  },
  {
   "cell_type": "markdown",
   "metadata": {},
   "source": [
    "# Part 2"
   ]
  },
  {
   "cell_type": "code",
   "execution_count": 6,
   "metadata": {},
   "outputs": [
    {
     "name": "stdout",
     "output_type": "stream",
     "text": [
      "5353\n",
      "61229\n"
     ]
    }
   ],
   "source": [
    "def get_lengths(data):\n",
    "    length = []\n",
    "    for dat in data:\n",
    "        length.append(len(dat))\n",
    "    return np.array(length)\n",
    "\n",
    "def find_char_idx(char, strings):\n",
    "    idx = []\n",
    "    for i in range(0, len(strings)):\n",
    "        if char in strings[i]:\n",
    "            idx.append(i)\n",
    "    return np.array(idx)\n",
    "\n",
    "def get_mapping(bot):\n",
    "    mapping = {'a':'', 'b':'', 'c':'', 'd':'', 'e':'', 'f':'', 'g':''}\n",
    "    #find 1 and 7 as it will give the mapping to a\n",
    "    lens = get_lengths(bot)\n",
    "    one = np.where(lens == digits[1][1])[0]\n",
    "    seven = np.where(lens == digits[7][1])[0]\n",
    "    \n",
    "    #a mapping is the char in seven but not in one\n",
    "    for c in bot[seven[0]]:\n",
    "        if c not in bot[one[0]]:\n",
    "            mapping['a'] = c\n",
    "        else:\n",
    "            mapping['c'] += c\n",
    "            mapping['f'] += c\n",
    "\n",
    "    #3 will be only len(5) with c and f\n",
    "    #Find 3\n",
    "    five_seg = np.where(lens == 5)[0]\n",
    "    one_0 = find_char_idx(mapping['c'][0],bot)\n",
    "    one_1 = find_char_idx(mapping['c'][1],bot)\n",
    "    one_edge = np.intersect1d(one_0, one_1)\n",
    "    three = np.intersect1d(five_seg, one_edge)\n",
    "\n",
    "    #Find 4\n",
    "    four = np.where(lens == digits[4][1])[0]\n",
    "\n",
    "    #With 3 and 4 and \"knowing\" 'cf', can get b and d\n",
    "    for c in bot[four[0]]:\n",
    "        if c in mapping['c']:\n",
    "            continue\n",
    "        elif c in bot[three[0]]:\n",
    "            mapping['d'] = c\n",
    "        else:\n",
    "            mapping['b'] = c\n",
    "\n",
    "    #With 3 and 4 and \"knowing\" 'cf' and knowing b and d, can get g\n",
    "    for c in bot[three[0]]:\n",
    "        if c in mapping['c'] or c == mapping['a'] or c == mapping['d']:\n",
    "            continue\n",
    "        else:\n",
    "            mapping['g'] = c\n",
    "            break\n",
    "\n",
    "    #Only don't have any idea about e, so find it\n",
    "    for c in mapping.keys():\n",
    "        if c == mapping['a'] or c == mapping['b'] or c in mapping['c'] or\\\n",
    "            c == mapping['d'] or c == mapping['g']:\n",
    "            continue\n",
    "        mapping['e'] = c\n",
    "        break\n",
    "\n",
    "    #Can now get c and f from 2 or 5\n",
    "    #Find 2\n",
    "    two_a = find_char_idx(mapping['a'],bot)\n",
    "    two_d = find_char_idx(mapping['d'],bot)\n",
    "    two_e = find_char_idx(mapping['e'],bot)\n",
    "    two_g = find_char_idx(mapping['g'],bot)\n",
    "    two = np.intersect1d(two_a, two_d)\n",
    "    two = np.intersect1d(two, two_e)\n",
    "    two = np.intersect1d(two, two_g)\n",
    "    two = np.intersect1d(two, five_seg)\n",
    "\n",
    "    for c in bot[two[0]]:\n",
    "        if c == mapping['a'] or c == mapping['d'] or c in mapping['e'] or\\\n",
    "            c == mapping['g']:\n",
    "            continue\n",
    "        mapping['c'] = c\n",
    "        mapping['f'] = mapping['f'].replace(c, \"\")\n",
    "        break\n",
    "    \n",
    "    inv_mapping = {v: k for k, v in mapping.items()}\n",
    "    return inv_mapping\n",
    "\n",
    "def decode_output(mapping, output):\n",
    "    value = ''\n",
    "    for o in output:\n",
    "        decoded = ''\n",
    "        for c in o:\n",
    "            decoded += mapping[c]\n",
    "        decoded = \"\". join(sorted(decoded))\n",
    "        value += sgment[decoded]\n",
    "    return int(value)\n",
    "\n",
    "def part2(data):\n",
    "    values = []\n",
    "    out, bot = split_in_out(data)\n",
    "    for i in range(0, len(bot)):\n",
    "        mapping = get_mapping(bot[i])\n",
    "        values.append(decode_output(mapping, out[i]))\n",
    "    return np.sum(values)\n",
    "\n",
    "print(part2(tst))\n",
    "print(part2(test))"
   ]
  },
  {
   "cell_type": "code",
   "execution_count": 7,
   "metadata": {},
   "outputs": [
    {
     "name": "stdout",
     "output_type": "stream",
     "text": [
      "Part 2 Result: 983026\n"
     ]
    }
   ],
   "source": [
    "print('Part 2 Result:', part2(inpt))"
   ]
  },
  {
   "cell_type": "code",
   "execution_count": null,
   "metadata": {},
   "outputs": [],
   "source": []
  }
 ],
 "metadata": {
  "kernelspec": {
   "display_name": "Python 3",
   "language": "python",
   "name": "python3"
  },
  "language_info": {
   "codemirror_mode": {
    "name": "ipython",
    "version": 3
   },
   "file_extension": ".py",
   "mimetype": "text/x-python",
   "name": "python",
   "nbconvert_exporter": "python",
   "pygments_lexer": "ipython3",
   "version": "3.6.9"
  }
 },
 "nbformat": 4,
 "nbformat_minor": 4
}
