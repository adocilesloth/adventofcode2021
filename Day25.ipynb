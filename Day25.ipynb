{
 "cells": [
  {
   "cell_type": "code",
   "execution_count": 1,
   "metadata": {},
   "outputs": [],
   "source": [
    "import numpy as np\n",
    "from copy import deepcopy"
   ]
  },
  {
   "cell_type": "markdown",
   "metadata": {},
   "source": [
    "# Part 1"
   ]
  },
  {
   "cell_type": "code",
   "execution_count": 2,
   "metadata": {},
   "outputs": [],
   "source": [
    "test1 = np.array(['...>...',\n",
    "                  '.......',\n",
    "                  '......>',\n",
    "                  'v.....>',\n",
    "                  '......>',\n",
    "                  '.......',\n",
    "                  '..vvv..'])\n",
    "\n",
    "test2  = np.array(['v...>>.vv>',\n",
    "                   '.vv>>.vv..',\n",
    "                   '>>.>v>...v',\n",
    "                   '>>v>>.>.v.',\n",
    "                   'v>v.vv.v..',\n",
    "                   '>.>>..v...',\n",
    "                   '.vv..>.>v.',\n",
    "                   'v.v..>>v.v',\n",
    "                   '....v..v.>'])"
   ]
  },
  {
   "cell_type": "code",
   "execution_count": 3,
   "metadata": {},
   "outputs": [
    {
     "name": "stdout",
     "output_type": "stream",
     "text": [
      "58\n"
     ]
    }
   ],
   "source": [
    "def process_input(data):\n",
    "    x = len(data)\n",
    "    y = len(data[0])\n",
    "    floor = np.empty((x,y), dtype=str)\n",
    "    for i in range(0, len(data)):\n",
    "        for j in range(0, len(data[i])):\n",
    "                floor[i][j] = str(data[i][j])\n",
    "                \n",
    "    return floor\n",
    "\n",
    "def move_cucumbers(floor):\n",
    "    new_floor = deepcopy(floor)\n",
    "    #east-west (>)\n",
    "    for i in range(0, len(floor)):\n",
    "        for j in range(0, len(floor[i])):\n",
    "            if floor[i][j] == '>':\n",
    "                if j < len(floor[i])-1:\n",
    "                    if floor[i][j+1] == '.':\n",
    "                        #print('> at', i,j)\n",
    "                        new_floor[i][j] = '.'\n",
    "                        new_floor[i][j+1] = '>'\n",
    "                else:\n",
    "                    if floor[i][0] == '.':\n",
    "                        #print('> at', i,j)\n",
    "                        new_floor[i][j] = '.'\n",
    "                        new_floor[i][0] = '>'\n",
    "    floor = deepcopy(new_floor)\n",
    "    #north-south (v)\n",
    "    for i in range(0, len(floor)):\n",
    "        for j in range(0, len(floor[i])):\n",
    "            if floor[i][j] == 'v':\n",
    "                if i < len(floor)-1:\n",
    "                    if floor[i+1][j] == '.':\n",
    "                        new_floor[i][j] = '.'\n",
    "                        new_floor[i+1][j] = 'v'\n",
    "                else:\n",
    "                    if floor[0][j] == '.':\n",
    "                        new_floor[i][j] = '.'\n",
    "                        new_floor[0][j] = 'v'\n",
    "                        \n",
    "    #print_floor(new_floor)\n",
    "                        \n",
    "    return new_floor\n",
    "\n",
    "def print_floor(floor):\n",
    "    for i in range(0, len(floor)):\n",
    "        string = ''\n",
    "        for j in range(0, len(floor[i])):\n",
    "            string += floor[i][j]\n",
    "        print(string)\n",
    "    print()\n",
    "\n",
    "def array_equal(a1, a2):\n",
    "    if a1.shape != a2.shape:\n",
    "        return False\n",
    "    for i in range(0, len(a1)):\n",
    "        for j in range(0, len(a2)):\n",
    "            if a1[i][j] != a2[i][j]:\n",
    "                return False\n",
    "    return True\n",
    "\n",
    "def clear_floor(data):\n",
    "    floor = process_input(data)\n",
    "    i = 0\n",
    "    last_floor = deepcopy(floor)\n",
    "    \n",
    "    #print_floor(floor)    \n",
    "    while True:\n",
    "        floor = move_cucumbers(floor)\n",
    "        i += 1\n",
    "        if array_equal(floor, last_floor):\n",
    "            #print_floor(floor)\n",
    "            return i\n",
    "        last_floor = deepcopy(floor)\n",
    "        \n",
    "print(clear_floor(test2))"
   ]
  },
  {
   "cell_type": "code",
   "execution_count": 4,
   "metadata": {},
   "outputs": [
    {
     "name": "stdout",
     "output_type": "stream",
     "text": [
      "Part 1 Result: 351\n"
     ]
    }
   ],
   "source": [
    "inpt = np.genfromtxt('day25_input.txt', dtype=str, delimiter='\\n')\n",
    "print('Part 1 Result:', clear_floor(inpt))"
   ]
  }
 ],
 "metadata": {
  "kernelspec": {
   "display_name": "Python 3",
   "language": "python",
   "name": "python3"
  },
  "language_info": {
   "codemirror_mode": {
    "name": "ipython",
    "version": 3
   },
   "file_extension": ".py",
   "mimetype": "text/x-python",
   "name": "python",
   "nbconvert_exporter": "python",
   "pygments_lexer": "ipython3",
   "version": "3.8.5"
  }
 },
 "nbformat": 4,
 "nbformat_minor": 4
}
