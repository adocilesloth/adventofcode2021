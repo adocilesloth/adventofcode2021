{
 "cells": [
  {
   "cell_type": "code",
   "execution_count": 1,
   "metadata": {},
   "outputs": [],
   "source": [
    "import numpy as np\n",
    "\n",
    "import matplotlib.pyplot as plt\n",
    "%matplotlib inline"
   ]
  },
  {
   "cell_type": "markdown",
   "metadata": {},
   "source": [
    "# Part 1"
   ]
  },
  {
   "cell_type": "code",
   "execution_count": 2,
   "metadata": {},
   "outputs": [],
   "source": [
    "test = np.array(['6,10',\n",
    "                 '0,14',\n",
    "                 '9,10',\n",
    "                 '0,3',\n",
    "                 '10,4',\n",
    "                 '4,11',\n",
    "                 '6,0',\n",
    "                 '6,12',\n",
    "                 '4,1',\n",
    "                 '0,13',\n",
    "                 '10,12',\n",
    "                 '3,4',\n",
    "                 '3,0',\n",
    "                 '8,4',\n",
    "                 '1,10',\n",
    "                 '2,14',\n",
    "                 '8,10',\n",
    "                 '9,0',\n",
    "\n",
    "                 'fold along y=7',\n",
    "                 'fold along x=5'])"
   ]
  },
  {
   "cell_type": "code",
   "execution_count": 3,
   "metadata": {},
   "outputs": [
    {
     "data": {
      "image/png": "[encoded data removed]",
      "text/plain": [
       "<Figure size 432x288 with 1 Axes>"
      ]
     },
     "metadata": {},
     "output_type": "display_data"
    },
    {
     "data": {
      "image/png": "[encoded data removed]",
      "text/plain": [
       "<Figure size 432x288 with 1 Axes>"
      ]
     },
     "metadata": {},
     "output_type": "display_data"
    },
    {
     "name": "stdout",
     "output_type": "stream",
     "text": [
      "17\n"
     ]
    },
    {
     "data": {
      "image/png": "[encoded data removed]",
      "text/plain": [
       "<Figure size 432x288 with 1 Axes>"
      ]
     },
     "metadata": {},
     "output_type": "display_data"
    }
   ],
   "source": [
    "def process_input(data):\n",
    "    dots = []\n",
    "    folds = []\n",
    "    for line in data:\n",
    "        if 'fold' not in line:\n",
    "            #switch x and y\n",
    "            y,x = line.split(',')\n",
    "            dots.append([int(x),int(y)])\n",
    "        else:\n",
    "            line = line[len('fold along '):]\n",
    "            xy,val = line.split('=')\n",
    "            folds.append([xy,int(val)])\n",
    "    dots = np.array(dots)\n",
    "    max_x = np.max(dots[:,0])+1\n",
    "    max_y = np.max(dots[:,1])+1\n",
    "    \n",
    "    paper = np.zeros((max_x,max_y), dtype=bool)\n",
    "    for dot in dots:\n",
    "        paper[dot[0],dot[1]] = True\n",
    "        \n",
    "    return paper, folds\n",
    "\n",
    "def fold_paper(paper, fold):\n",
    "    if fold[0] == 'y':\n",
    "        new_paper = paper[:fold[1]]\n",
    "        otr_paper = paper[fold[1]+1:]\n",
    "        \n",
    "        for i in range(0, len(otr_paper)):\n",
    "            new_paper[-(1+i)] += otr_paper[i]\n",
    "    \n",
    "    elif fold[0] == 'x':\n",
    "        new_paper = paper[:,:fold[1]]\n",
    "        otr_paper = paper[:,fold[1]+1:]\n",
    "        \n",
    "        for i in range(0, len(otr_paper[0])):\n",
    "            new_paper[:,-(1+i)] += otr_paper[:,i]\n",
    "            \n",
    "    return new_paper\n",
    "\n",
    "paper, folds = process_input(test)\n",
    "plt.imshow(paper)\n",
    "plt.xticks([])\n",
    "plt.yticks([])\n",
    "plt.show()\n",
    "\n",
    "paper = fold_paper(paper, folds[0])\n",
    "plt.imshow(paper)\n",
    "plt.xticks([])\n",
    "plt.yticks([])\n",
    "plt.show()\n",
    "print(np.sum(paper))\n",
    "\n",
    "paper = fold_paper(paper, folds[1])\n",
    "plt.imshow(paper)\n",
    "plt.xticks([])\n",
    "plt.yticks([])\n",
    "plt.show()"
   ]
  },
  {
   "cell_type": "code",
   "execution_count": 4,
   "metadata": {},
   "outputs": [
    {
     "name": "stdout",
     "output_type": "stream",
     "text": [
      "Part 1 Result: 678\n"
     ]
    }
   ],
   "source": [
    "inpt = np.genfromtxt('day13_input.txt', dtype=str, delimiter='\\n')\n",
    "paper, folds = process_input(inpt)\n",
    "paper = fold_paper(paper, folds[0])\n",
    "print('Part 1 Result:', np.sum(paper))"
   ]
  },
  {
   "cell_type": "markdown",
   "metadata": {},
   "source": [
    "# Part 2"
   ]
  },
  {
   "cell_type": "code",
   "execution_count": 5,
   "metadata": {},
   "outputs": [
    {
     "data": {
      "image/png": "[encoded data removed]",
      "text/plain": [
       "<Figure size 432x288 with 1 Axes>"
      ]
     },
     "metadata": {},
     "output_type": "display_data"
    }
   ],
   "source": [
    "def fully_fold(data):\n",
    "    paper, folds = process_input(data)\n",
    "    for i in range(0, len(folds)):\n",
    "        paper = fold_paper(paper, folds[i])\n",
    "    plt.imshow(paper)\n",
    "    plt.xticks([])\n",
    "    plt.yticks([])\n",
    "    plt.show()\n",
    "    \n",
    "fully_fold(test)"
   ]
  },
  {
   "cell_type": "code",
   "execution_count": 6,
   "metadata": {},
   "outputs": [
    {
     "data": {
      "image/png": "[encoded data removed]",
      "text/plain": [
       "<Figure size 432x288 with 1 Axes>"
      ]
     },
     "metadata": {},
     "output_type": "display_data"
    }
   ],
   "source": [
    "fully_fold(inpt)"
   ]
  },
  {
   "cell_type": "code",
   "execution_count": null,
   "metadata": {},
   "outputs": [],
   "source": []
  }
 ],
 "metadata": {
  "kernelspec": {
   "display_name": "Python 3",
   "language": "python",
   "name": "python3"
  },
  "language_info": {
   "codemirror_mode": {
    "name": "ipython",
    "version": 3
   },
   "file_extension": ".py",
   "mimetype": "text/x-python",
   "name": "python",
   "nbconvert_exporter": "python",
   "pygments_lexer": "ipython3",
   "version": "3.8.5"
  }
 },
 "nbformat": 4,
 "nbformat_minor": 4
}
