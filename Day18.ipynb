{
 "cells": [
  {
   "cell_type": "code",
   "execution_count": 1,
   "metadata": {},
   "outputs": [],
   "source": [
    "import numpy as np\n",
    "import ast\n",
    "from copy import deepcopy"
   ]
  },
  {
   "cell_type": "markdown",
   "metadata": {},
   "source": [
    "# Part 1"
   ]
  },
  {
   "cell_type": "code",
   "execution_count": 2,
   "metadata": {},
   "outputs": [
    {
     "name": "stdout",
     "output_type": "stream",
     "text": [
      "4140\n"
     ]
    }
   ],
   "source": [
    "def depth(snail):\n",
    "    #determine depth of snail\n",
    "    if isinstance(snail, list):\n",
    "        return 1 + max(depth(item) for item in snail)\n",
    "    else:\n",
    "        return 0\n",
    "    \n",
    "def flatten(snail):\n",
    "    #function to flatten snail into slug\n",
    "    slug = []\n",
    "    for i in range(0, 2):\n",
    "        if isinstance(snail[i], list):\n",
    "            slug += flatten(snail[i])\n",
    "        else:\n",
    "            slug.append(snail[i])\n",
    "    return slug\n",
    "\n",
    "def depth_idx(snail):\n",
    "    #find index of first deepest point\n",
    "    idx = -1\n",
    "    for i in range(0, 2):\n",
    "        idx += 1\n",
    "        if isinstance(snail[i], list):\n",
    "            for j in range(0, 2):\n",
    "                if j == 1:\n",
    "                    idx += 1\n",
    "                if isinstance(snail[i][j], list):\n",
    "                    for k in range(0, 2):\n",
    "                        if k == 1:\n",
    "                            idx += 1\n",
    "                        if isinstance(snail[i][j][k], list):\n",
    "                            for l in range(0, 2):\n",
    "                                if l == 1:\n",
    "                                    idx += 1\n",
    "                                if isinstance(snail[i][j][k][l], list):\n",
    "                                    return idx, [i,j,k,l]\n",
    "                                \n",
    "def curl_slug(snail, slug, slug_idx=None):\n",
    "    #function to curl slug back up into snail\n",
    "    idx = 0\n",
    "    for i in range(0, 2):\n",
    "        if i == 1:\n",
    "            idx += 1\n",
    "        if isinstance(snail[i], list):\n",
    "            for j in range(0, 2):\n",
    "                if j == 1:\n",
    "                    idx += 1\n",
    "                if isinstance(snail[i][j], list):\n",
    "                    for k in range(0, 2):\n",
    "                        if k == 1:\n",
    "                            idx += 1\n",
    "                        if isinstance(snail[i][j][k], list):\n",
    "                            for l in range(0, 2):\n",
    "                                if l == 1:\n",
    "                                    idx += 1\n",
    "                                if isinstance(snail[i][j][k][l], list) and slug_idx is not None and idx != slug_idx:\n",
    "                                    for m in range(0, 2):\n",
    "                                        if m == 1:\n",
    "                                            idx += 1\n",
    "                                        snail[i][j][k][l][m] = slug[idx]\n",
    "                                        if idx == len(slug)-1:\n",
    "                                            return snail\n",
    "                                else:\n",
    "                                    snail[i][j][k][l] = slug[idx]\n",
    "                        else:\n",
    "                            snail[i][j][k] = slug[idx]\n",
    "                else:\n",
    "                    snail[i][j] = slug[idx]\n",
    "        else:\n",
    "            snail[i] = slug[idx]\n",
    "    return snail\n",
    "        \n",
    "def explode(snail):\n",
    "    #explode deep numbers\n",
    "    slug = flatten(snail)\n",
    "    idx = depth_idx(snail)\n",
    "    slug_idx, snail_idx = idx\n",
    "    i,j,k,l = snail_idx\n",
    "    \n",
    "    if slug_idx == 0:\n",
    "        slug[0] = 0\n",
    "        slug[2] += slug[1]\n",
    "        del slug[1]\n",
    "        \n",
    "    elif slug_idx == len(slug)-2:\n",
    "        slug[-1] = 0\n",
    "        slug[-3] += slug[-2]\n",
    "        del slug[-2]\n",
    "        \n",
    "    else:\n",
    "        slug[slug_idx-1] += slug[slug_idx]\n",
    "        del slug[slug_idx]\n",
    "        slug[slug_idx+1] += slug[slug_idx]\n",
    "        slug[slug_idx] = 0\n",
    "        \n",
    "    #print(slug)\n",
    "    snail = curl_slug(snail, slug, slug_idx)\n",
    "        \n",
    "    return snail\n",
    "\n",
    "def split(snail, tens):\n",
    "    #split values > 10\n",
    "    slug = flatten(snail)\n",
    "    val = slug[tens[0]]\n",
    "    slug[tens[0]] = [int(np.floor(val/2)), int(np.ceil(val/2))]\n",
    "    snail = curl_slug(snail, slug)\n",
    "    return snail\n",
    "\n",
    "def add_numbers(numbers):\n",
    "    #add snail numbers\n",
    "    snail = numbers[0]\n",
    "    for i in range(1, len(numbers)):\n",
    "        snail = [snail, numbers[i]]\n",
    "        while True:\n",
    "            while depth(snail) == 5:\n",
    "                snail = explode(snail)\n",
    "            tens = np.where(np.array(flatten(snail)) > 9)[0]\n",
    "            if len(tens) > 0:\n",
    "                snail = split(snail, tens)\n",
    "\n",
    "            tens = np.where(np.array(flatten(snail)) > 9)[0]\n",
    "            dpth = depth(snail)\n",
    "            if len(tens) == 0 and dpth < 5:\n",
    "                break\n",
    "    return snail\n",
    "    \n",
    "def magnitude(snail):\n",
    "    #get magnitude of snail numbers\n",
    "    for i in range(0, 2):\n",
    "        if isinstance(snail[i], list):\n",
    "            snail[i] = magnitude(snail[i])\n",
    "        elif i == 1:\n",
    "            return (3*snail[0]) + (2*snail[1])\n",
    "    return (3*snail[0]) + (2*snail[1])\n",
    "    \n",
    "test1 = [[1,1],[2,2],[3,3],[4,4]]\n",
    "test2 = [[1,1],[2,2],[3,3],[4,4],[5,5]]\n",
    "test3 = [[1,1],[2,2],[3,3],[4,4],[5,5],[6,6]]\n",
    "test4 = [ [[[0,[4,5]],[0,0]],[[[4,5],[2,6]],[9,5]]],\n",
    "          [7,[[[3,7],[4,3]],[[6,3],[8,8]]]],\n",
    "          [[2,[[0,8],[3,4]]],[[[6,7],1],[7,[1,6]]]],\n",
    "          [[[[2,4],7],[6,[0,5]]],[[[6,8],[2,8]],[[2,1],[4,5]]]],\n",
    "          [7,[5,[[3,8],[1,4]]]],\n",
    "          [[2,[2,2]],[8,[8,1]]],\n",
    "          [2,9],\n",
    "          [1,[[[9,3],9],[[9,0],[0,7]]]],\n",
    "          [[[5,[7,4]],7],1],\n",
    "          [[[[4,2],2],6],[8,7]] ]\n",
    "add_numbers(test1)\n",
    "add_numbers(test2)\n",
    "add_numbers(test3)\n",
    "add_numbers(test4)\n",
    "\n",
    "test5 = [ [[[0,[5,8]],[[1,7],[9,6]]],[[4,[1,2]],[[1,4],2]]],\n",
    "          [[[5,[2,8]],4],[5,[[9,9],0]]],\n",
    "          [6,[[[6,2],[5,6]],[[7,6],[4,7]]]],\n",
    "          [[[6,[0,7]],[0,9]],[4,[9,[9,0]]]],\n",
    "          [[[7,[6,4]],[3,[1,3]]],[[[5,5],1],9]],\n",
    "          [[6,[[7,3],[3,2]]],[[[3,8],[5,7]],4]],\n",
    "          [[[[5,4],[7,7]],8],[[8,3],8]],\n",
    "          [[9,3],[[9,9],[6,[4,9]]]],\n",
    "          [[2,[[7,7],7]],[[5,8],[[9,3],[0,2]]]],\n",
    "          [[[[5,2],5],[8,[3,7]]],[[5,[7,5]],[4,4]]] ]\n",
    "print(magnitude(add_numbers(test5)))"
   ]
  },
  {
   "cell_type": "code",
   "execution_count": 3,
   "metadata": {},
   "outputs": [
    {
     "name": "stdout",
     "output_type": "stream",
     "text": [
      "Part 1 Result: 4433\n"
     ]
    }
   ],
   "source": [
    "def process_input():\n",
    "    inpt = np.genfromtxt('day18_input.txt', dtype=str, delimiter='\\n')\n",
    "    numbers = []\n",
    "    for line in inpt:\n",
    "        numbers.append(ast.literal_eval(line))\n",
    "    return numbers\n",
    "\n",
    "print('Part 1 Result:', magnitude(add_numbers(process_input())))"
   ]
  },
  {
   "cell_type": "markdown",
   "metadata": {},
   "source": [
    "# Part 2"
   ]
  },
  {
   "cell_type": "code",
   "execution_count": 4,
   "metadata": {},
   "outputs": [
    {
     "name": "stdout",
     "output_type": "stream",
     "text": [
      "3993\n"
     ]
    }
   ],
   "source": [
    "def get_max_sum(numbers):\n",
    "    maxi = 0\n",
    "    for i in range(0, len(numbers)):\n",
    "        for j in range(i+1, len(numbers)):\n",
    "            val = magnitude(add_numbers([deepcopy(numbers[i]),deepcopy(numbers[j])]))\n",
    "            if val > maxi:\n",
    "                maxi = val\n",
    "            #addition is not commutative\n",
    "            val = magnitude(add_numbers([deepcopy(numbers[j]),deepcopy(numbers[i])]))\n",
    "            if val > maxi:\n",
    "                maxi = val\n",
    "    return maxi\n",
    "\n",
    "test6 = [ [[[0,[5,8]],[[1,7],[9,6]]],[[4,[1,2]],[[1,4],2]]],\n",
    "          [[[5,[2,8]],4],[5,[[9,9],0]]],\n",
    "          [6,[[[6,2],[5,6]],[[7,6],[4,7]]]],\n",
    "          [[[6,[0,7]],[0,9]],[4,[9,[9,0]]]],\n",
    "          [[[7,[6,4]],[3,[1,3]]],[[[5,5],1],9]],\n",
    "          [[6,[[7,3],[3,2]]],[[[3,8],[5,7]],4]],\n",
    "          [[[[5,4],[7,7]],8],[[8,3],8]],\n",
    "          [[9,3],[[9,9],[6,[4,9]]]],\n",
    "          [[2,[[7,7],7]],[[5,8],[[9,3],[0,2]]]],\n",
    "          [[[[5,2],5],[8,[3,7]]],[[5,[7,5]],[4,4]]] ]\n",
    "print(get_max_sum(test6))"
   ]
  },
  {
   "cell_type": "code",
   "execution_count": 5,
   "metadata": {},
   "outputs": [
    {
     "name": "stdout",
     "output_type": "stream",
     "text": [
      "Part 2 Result: 4559\n"
     ]
    }
   ],
   "source": [
    "print('Part 2 Result:', get_max_sum(process_input()))"
   ]
  },
  {
   "cell_type": "code",
   "execution_count": null,
   "metadata": {},
   "outputs": [],
   "source": []
  }
 ],
 "metadata": {
  "kernelspec": {
   "display_name": "Python 3",
   "language": "python",
   "name": "python3"
  },
  "language_info": {
   "codemirror_mode": {
    "name": "ipython",
    "version": 3
   },
   "file_extension": ".py",
   "mimetype": "text/x-python",
   "name": "python",
   "nbconvert_exporter": "python",
   "pygments_lexer": "ipython3",
   "version": "3.8.5"
  }
 },
 "nbformat": 4,
 "nbformat_minor": 4
}
