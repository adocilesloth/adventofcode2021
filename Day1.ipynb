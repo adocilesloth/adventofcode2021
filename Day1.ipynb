{
 "cells": [
  {
   "cell_type": "code",
   "execution_count": 1,
   "metadata": {},
   "outputs": [],
   "source": [
    "import numpy as np"
   ]
  },
  {
   "cell_type": "markdown",
   "metadata": {},
   "source": [
    "# Part 1"
   ]
  },
  {
   "cell_type": "code",
   "execution_count": 2,
   "metadata": {},
   "outputs": [
    {
     "name": "stdout",
     "output_type": "stream",
     "text": [
      "7\n"
     ]
    }
   ],
   "source": [
    "test = np.array([199, 200, 208, 210, 200, 207, 240, 269, 260, 263])\n",
    "count = 0\n",
    "for i in range(1, len(test)):\n",
    "    if test[i] > test[i-1]:\n",
    "        count += 1\n",
    "print(count)"
   ]
  },
  {
   "cell_type": "code",
   "execution_count": 3,
   "metadata": {},
   "outputs": [
    {
     "name": "stdout",
     "output_type": "stream",
     "text": [
      "Part 1 Result: 1581\n"
     ]
    }
   ],
   "source": [
    "inpt = np.genfromtxt('day1_input.txt', dtype=np.int32)\n",
    "count = 0\n",
    "for i in range(1, len(inpt)):\n",
    "    if inpt[i] > inpt[i-1]:\n",
    "        count += 1\n",
    "print('Part 1 Result:', count)"
   ]
  },
  {
   "cell_type": "markdown",
   "metadata": {},
   "source": [
    "# Part 2"
   ]
  },
  {
   "cell_type": "code",
   "execution_count": 4,
   "metadata": {},
   "outputs": [
    {
     "name": "stdout",
     "output_type": "stream",
     "text": [
      "5\n"
     ]
    }
   ],
   "source": [
    "count = 0\n",
    "for i in range(0, len(test)-3):\n",
    "    window1 = np.sum(test[i:i+3])\n",
    "    window2 = np.sum(test[i+1:i+4])\n",
    "    if window2 > window1:\n",
    "        count += 1\n",
    "print(count)"
   ]
  },
  {
   "cell_type": "code",
   "execution_count": 5,
   "metadata": {},
   "outputs": [
    {
     "name": "stdout",
     "output_type": "stream",
     "text": [
      "Part 2 Result: 1618\n"
     ]
    }
   ],
   "source": [
    "count = 0\n",
    "for i in range(0, len(inpt)-3):\n",
    "    window1 = np.sum(inpt[i:i+3])\n",
    "    window2 = np.sum(inpt[i+1:i+4])\n",
    "    if window2 > window1:\n",
    "        count += 1\n",
    "print('Part 2 Result:', count)"
   ]
  },
  {
   "cell_type": "code",
   "execution_count": null,
   "metadata": {},
   "outputs": [],
   "source": []
  }
 ],
 "metadata": {
  "kernelspec": {
   "display_name": "Python 3",
   "language": "python",
   "name": "python3"
  },
  "language_info": {
   "codemirror_mode": {
    "name": "ipython",
    "version": 3
   },
   "file_extension": ".py",
   "mimetype": "text/x-python",
   "name": "python",
   "nbconvert_exporter": "python",
   "pygments_lexer": "ipython3",
   "version": "3.6.9"
  }
 },
 "nbformat": 4,
 "nbformat_minor": 4
}
