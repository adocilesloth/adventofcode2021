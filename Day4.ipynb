{
 "cells": [
  {
   "cell_type": "code",
   "execution_count": 1,
   "metadata": {},
   "outputs": [],
   "source": [
    "import numpy as np"
   ]
  },
  {
   "cell_type": "markdown",
   "metadata": {},
   "source": [
    "# Part 1"
   ]
  },
  {
   "cell_type": "code",
   "execution_count": 2,
   "metadata": {},
   "outputs": [],
   "source": [
    "test = np.array(['7,4,9,5,11,17,23,2,0,14,21,24,10,16,13,6,15,25,12,22,18,20,8,19,3,26,1',\n",
    "                 #'',\n",
    "                 '22 13 17 11  0',\n",
    "                 ' 8  2 23  4 24',\n",
    "                 '21  9 14 16  7',\n",
    "                 ' 6 10  3 18  5',\n",
    "                 ' 1 12 20 15 19',\n",
    "                 #'',\n",
    "                 ' 3 15  0  2 22',\n",
    "                 ' 9 18 13 17  5',\n",
    "                 '19  8  7 25 23',\n",
    "                 '20 11 10 24  4',\n",
    "                 '14 21 16 12  6',\n",
    "                 #'',\n",
    "                 '14 21 17 24  4',\n",
    "                 '10 16 15  9 19',\n",
    "                 '18  8 23 26 20',\n",
    "                 '22 11 13  6  5',\n",
    "                 ' 2  0 12  3  7'])"
   ]
  },
  {
   "cell_type": "code",
   "execution_count": 3,
   "metadata": {},
   "outputs": [
    {
     "name": "stdout",
     "output_type": "stream",
     "text": [
      "4512\n"
     ]
    }
   ],
   "source": [
    "def get_bingo(data):\n",
    "    #First row are the bingo numbers\n",
    "    numbers = np.array(data[0].split(','))\n",
    "    numbers = numbers.astype(int)\n",
    "    \n",
    "    #remaining rows are the 5x5 bingo cards/boards\n",
    "    boards = []\n",
    "    for i in range(1, len(data), 5):\n",
    "        board = np.empty((5,5), dtype=int)\n",
    "        for j in range(0, 5):\n",
    "            board[j] = np.array(data[i+j].split())\n",
    "        boards.append(board)\n",
    "    boards = np.array(boards)\n",
    "    \n",
    "    return numbers, boards\n",
    "\n",
    "def play_bingo(numbers, boards, win=True):\n",
    "    skip = [] #completed boards if win == False\n",
    "    \n",
    "    #loop over numbers\n",
    "    for n in numbers:\n",
    "        #loop over boards\n",
    "        for i in range(0, len(boards)):\n",
    "            #ignore competed boards\n",
    "            if i in skip:\n",
    "                continue\n",
    "                \n",
    "            #Find location where boards[i] == n and set to -1\n",
    "            idx = np.where(boards[i] == n)\n",
    "            boards[i][idx] = -1\n",
    "            \n",
    "            #Find locations of all -1 values in boards[i]\n",
    "            blotted = np.where(boards[i] == -1)\n",
    "            blotted = np.transpose(blotted)\n",
    "            \n",
    "            #Find completed row\n",
    "            _, count = np.unique(blotted[:,0], return_counts=True)\n",
    "            if 5 in count:\n",
    "                if win or len(skip) == len(boards)-1:\n",
    "                    #Score the \"winning\" board\n",
    "                    return score_bingo(boards[i], n)\n",
    "                else:\n",
    "                    skip.append(i)\n",
    "                continue\n",
    "                \n",
    "            #Find completed column\n",
    "            _, count = np.unique(blotted[:,1], return_counts=True)\n",
    "            if 5 in count:\n",
    "                if win or len(skip) == len(boards)-1:\n",
    "                    #Score the \"winning\" board\n",
    "                    return score_bingo(boards[i], n)\n",
    "                else:\n",
    "                    skip.append(i)\n",
    "                \n",
    "\n",
    "def score_bingo(board, n):\n",
    "    #Find all non -1 positions...\n",
    "    values = np.where(board > -1)\n",
    "    #...and sum them\n",
    "    board_score = np.sum(board[values])\n",
    "    #return the score\n",
    "    return board_score * n\n",
    "    \n",
    "numbers, boards = get_bingo(test)\n",
    "print(play_bingo(numbers, boards))"
   ]
  },
  {
   "cell_type": "code",
   "execution_count": 4,
   "metadata": {},
   "outputs": [
    {
     "name": "stdout",
     "output_type": "stream",
     "text": [
      "Part 1 Result: 33348\n"
     ]
    }
   ],
   "source": [
    "inpt = np.genfromtxt('day4_input.txt', dtype=str, delimiter='\\n')\n",
    "\n",
    "numbers, boards = get_bingo(inpt)\n",
    "print('Part 1 Result:', play_bingo(numbers, boards))"
   ]
  },
  {
   "cell_type": "markdown",
   "metadata": {},
   "source": [
    "# Part 2"
   ]
  },
  {
   "cell_type": "code",
   "execution_count": 5,
   "metadata": {},
   "outputs": [
    {
     "name": "stdout",
     "output_type": "stream",
     "text": [
      "1924\n"
     ]
    }
   ],
   "source": [
    "test = np.array(['7,4,9,5,11,17,23,2,0,14,21,24,10,16,13,6,15,25,12,22,18,20,8,19,3,26,1',\n",
    "                 #'',\n",
    "                 '22 13 17 11  0',\n",
    "                 ' 8  2 23  4 24',\n",
    "                 '21  9 14 16  7',\n",
    "                 ' 6 10  3 18  5',\n",
    "                 ' 1 12 20 15 19',\n",
    "                 #'',\n",
    "                 ' 3 15  0  2 22',\n",
    "                 ' 9 18 13 17  5',\n",
    "                 '19  8  7 25 23',\n",
    "                 '20 11 10 24  4',\n",
    "                 '14 21 16 12  6',\n",
    "                 #'',\n",
    "                 '14 21 17 24  4',\n",
    "                 '10 16 15  9 19',\n",
    "                 '18  8 23 26 20',\n",
    "                 '22 11 13  6  5',\n",
    "                 ' 2  0 12  3  7'])\n",
    "\n",
    "numbers, boards = get_bingo(test)\n",
    "print(play_bingo(numbers, boards, False))"
   ]
  },
  {
   "cell_type": "code",
   "execution_count": 6,
   "metadata": {},
   "outputs": [
    {
     "name": "stdout",
     "output_type": "stream",
     "text": [
      "Part 2 Result: 8112\n"
     ]
    }
   ],
   "source": [
    "inpt = np.genfromtxt('day4_input.txt', dtype=str, delimiter='\\n')\n",
    "\n",
    "numbers, boards = get_bingo(inpt)\n",
    "print('Part 2 Result:', play_bingo(numbers, boards, False))"
   ]
  },
  {
   "cell_type": "code",
   "execution_count": null,
   "metadata": {},
   "outputs": [],
   "source": []
  }
 ],
 "metadata": {
  "kernelspec": {
   "display_name": "Python 3",
   "language": "python",
   "name": "python3"
  },
  "language_info": {
   "codemirror_mode": {
    "name": "ipython",
    "version": 3
   },
   "file_extension": ".py",
   "mimetype": "text/x-python",
   "name": "python",
   "nbconvert_exporter": "python",
   "pygments_lexer": "ipython3",
   "version": "3.8.5"
  }
 },
 "nbformat": 4,
 "nbformat_minor": 4
}
