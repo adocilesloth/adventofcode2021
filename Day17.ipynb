{
 "cells": [
  {
   "cell_type": "code",
   "execution_count": 1,
   "metadata": {},
   "outputs": [],
   "source": [
    "import numpy as np"
   ]
  },
  {
   "cell_type": "markdown",
   "metadata": {},
   "source": [
    "# Part 1"
   ]
  },
  {
   "cell_type": "code",
   "execution_count": 2,
   "metadata": {},
   "outputs": [],
   "source": [
    "test = 'target area: x=20..30, y=-10..-5'"
   ]
  },
  {
   "cell_type": "code",
   "execution_count": 3,
   "metadata": {},
   "outputs": [
    {
     "name": "stdout",
     "output_type": "stream",
     "text": [
      "45\n"
     ]
    }
   ],
   "source": [
    "def process_input(data):\n",
    "    data = data[len('target area: '):]\n",
    "    ex, wy = data.split(', ')\n",
    "    ex = ex[2:]\n",
    "    x0, x1 = ex.split('..')\n",
    "    wy = wy[2:]\n",
    "    y0, y1 = wy.split('..')\n",
    "    \n",
    "    area = [[int(x0),int(x1)],[int(y0),int(y1)]]\n",
    "    \n",
    "    return area\n",
    "\n",
    "def get_max_height(area):       \n",
    "    #starts with zero velocity\n",
    "    #dy = -1\n",
    "    \n",
    "    #max speed is bottom of area\n",
    "    max_yv = -1*(area[1][0]-1) #maximum speed\n",
    "    ttl_dy = int((max_yv*(max_yv-1))/2) #total displacement\n",
    "    \n",
    "    height = area[1][0]+ttl_dy\n",
    "    \n",
    "    return height\n",
    "\n",
    "def part1(data):\n",
    "    area = process_input(data)\n",
    "    return get_max_height(area)\n",
    "\n",
    "print(part1(test))"
   ]
  },
  {
   "cell_type": "code",
   "execution_count": 4,
   "metadata": {},
   "outputs": [
    {
     "name": "stdout",
     "output_type": "stream",
     "text": [
      "Part1 Result: 5995\n"
     ]
    }
   ],
   "source": [
    "inpt = np.genfromtxt('day17_input.txt', dtype=str, delimiter='\\n')\n",
    "inpt = str(inpt)\n",
    "print('Part1 Result:', part1(inpt))"
   ]
  },
  {
   "cell_type": "markdown",
   "metadata": {},
   "source": [
    "# Part 2"
   ]
  },
  {
   "cell_type": "code",
   "execution_count": 5,
   "metadata": {},
   "outputs": [
    {
     "name": "stdout",
     "output_type": "stream",
     "text": [
      "112\n"
     ]
    }
   ],
   "source": [
    "def get_y_speed_range(area):\n",
    "    #max speed is bottom of area\n",
    "    max_yv = -1*(area[1][0]-1) #maximum speed\n",
    "    max_yv -= 1\n",
    "    \n",
    "    #min speed is top of area\n",
    "    min_yv = area[1][0]\n",
    "    \n",
    "    return min_yv, max_yv\n",
    "\n",
    "def get_x_speed_range(area):\n",
    "    #max speed ends at right of area\n",
    "    max_xv = area[0][1]+1\n",
    "    \n",
    "    #min speed ends at left of area\n",
    "    min_xv = np.ceil(np.sqrt(2*area[0][0])).astype(int) - 1\n",
    "    \n",
    "    return min_xv, max_xv\n",
    "\n",
    "def simulate_shot(speed, area):\n",
    "    xy = np.array([0, 0])\n",
    "    xy_v = np.array(speed)\n",
    "    dxdy = np.array([-1, -1])\n",
    "    while True:\n",
    "        xy += xy_v\n",
    "        xy_v += dxdy\n",
    "        if xy_v[0] == 0:\n",
    "            dxdy[0] = 0\n",
    "            \n",
    "        if (xy[0] <= area[0][1] and xy[0] >= area[0][0]) and (xy[1] <= area[1][1] and xy[1] >= area[1][0]):\n",
    "            return True\n",
    "        elif xy_v[0] == 0 and xy[0] < area[0][0]:\n",
    "            return False\n",
    "        elif xy_v[0] == 0 and xy[0] > area[0][1]:\n",
    "            return False\n",
    "        elif xy[1] < area[1][0]:\n",
    "            return False\n",
    "        \n",
    "    return False\n",
    "\n",
    "def get_speeds(area):\n",
    "    minmax_x = get_x_speed_range(area)\n",
    "    minmax_y = get_y_speed_range(area)\n",
    "    \n",
    "    good = []\n",
    "    #Brute force across all possible velocities\n",
    "    for x in range(minmax_x[0], minmax_x[1]+1):\n",
    "        for y in range(minmax_y[0], minmax_y[1]+1):\n",
    "            if simulate_shot([x,y], area):\n",
    "                good.append([x,y])\n",
    "        \n",
    "    return len(good)\n",
    "\n",
    "def part2(data):\n",
    "    area = process_input(data)\n",
    "    return get_speeds(area)\n",
    "\n",
    "print(part2(test))"
   ]
  },
  {
   "cell_type": "code",
   "execution_count": 6,
   "metadata": {},
   "outputs": [
    {
     "name": "stdout",
     "output_type": "stream",
     "text": [
      "Part 2 Result: 3202\n"
     ]
    }
   ],
   "source": [
    "print('Part 2 Result:', part2(inpt))"
   ]
  },
  {
   "cell_type": "code",
   "execution_count": null,
   "metadata": {},
   "outputs": [],
   "source": []
  }
 ],
 "metadata": {
  "kernelspec": {
   "display_name": "Python 3",
   "language": "python",
   "name": "python3"
  },
  "language_info": {
   "codemirror_mode": {
    "name": "ipython",
    "version": 3
   },
   "file_extension": ".py",
   "mimetype": "text/x-python",
   "name": "python",
   "nbconvert_exporter": "python",
   "pygments_lexer": "ipython3",
   "version": "3.8.5"
  }
 },
 "nbformat": 4,
 "nbformat_minor": 4
}
