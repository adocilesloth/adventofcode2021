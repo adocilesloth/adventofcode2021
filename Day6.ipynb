{
 "cells": [
  {
   "cell_type": "code",
   "execution_count": 1,
   "metadata": {},
   "outputs": [],
   "source": [
    "import numpy as np"
   ]
  },
  {
   "cell_type": "markdown",
   "metadata": {},
   "source": [
    "# Part 1"
   ]
  },
  {
   "cell_type": "code",
   "execution_count": 2,
   "metadata": {},
   "outputs": [
    {
     "name": "stdout",
     "output_type": "stream",
     "text": [
      "5934\n"
     ]
    }
   ],
   "source": [
    "def age_lantern_fish(fish, days):\n",
    "    days += 1 #want after days but we cound from 0, so add a day\n",
    "    \n",
    "    #Array for new fish\n",
    "    new_fish = []\n",
    "    for i in range(0, days):\n",
    "        new_fish.append(0)\n",
    "    new_fish[0] = len(fish)\n",
    "    \n",
    "    #Get starting ages\n",
    "    unique, count = np.unique(fish, return_counts=True)\n",
    "    #Get the starting fish's direct prodgeny\n",
    "    for i in range(0, len(unique)):\n",
    "        offset = unique[i]+1 #Offset of 1 to convert from 0-age to 1-age\n",
    "        number = count[i]\n",
    "        #New fish every seven days\n",
    "        while offset < days:\n",
    "            new_fish[offset] += number\n",
    "            offset += 7\n",
    "            \n",
    "    #Get the direct prodgeny's direct prodgeny (and thir prodgeny and so on)\n",
    "    for d in range(1, days):\n",
    "        number = new_fish[d]\n",
    "        \n",
    "        offset = d+2+7 #New fish will generate first prodgeny after 9 days, not 7\n",
    "        #New fish every seven days\n",
    "        while offset < days:\n",
    "            new_fish[offset] += number\n",
    "            offset += 7\n",
    "            \n",
    "    #Calculate total number of fish\n",
    "    total_fish = np.sum(new_fish)\n",
    "    return total_fish\n",
    "\n",
    "test = np.array([3,4,3,1,2])\n",
    "\n",
    "print(age_lantern_fish(test, 80))"
   ]
  },
  {
   "cell_type": "code",
   "execution_count": 3,
   "metadata": {},
   "outputs": [
    {
     "name": "stdout",
     "output_type": "stream",
     "text": [
      "Part 1 Result: 380758\n"
     ]
    }
   ],
   "source": [
    "inpt = np.genfromtxt('day6_input.txt', dtype=int, delimiter=',')\n",
    "print('Part 1 Result:', age_lantern_fish(inpt, 80))"
   ]
  },
  {
   "cell_type": "markdown",
   "metadata": {},
   "source": [
    "# Part 2"
   ]
  },
  {
   "cell_type": "code",
   "execution_count": 4,
   "metadata": {},
   "outputs": [
    {
     "name": "stdout",
     "output_type": "stream",
     "text": [
      "26984457539\n"
     ]
    }
   ],
   "source": [
    "print(age_lantern_fish(test, 256))"
   ]
  },
  {
   "cell_type": "code",
   "execution_count": 5,
   "metadata": {},
   "outputs": [
    {
     "name": "stdout",
     "output_type": "stream",
     "text": [
      "Part 2 Result: 1710623015163\n"
     ]
    }
   ],
   "source": [
    "print('Part 2 Result:', age_lantern_fish(inpt, 256))"
   ]
  },
  {
   "cell_type": "code",
   "execution_count": null,
   "metadata": {},
   "outputs": [],
   "source": []
  }
 ],
 "metadata": {
  "kernelspec": {
   "display_name": "Python 3",
   "language": "python",
   "name": "python3"
  },
  "language_info": {
   "codemirror_mode": {
    "name": "ipython",
    "version": 3
   },
   "file_extension": ".py",
   "mimetype": "text/x-python",
   "name": "python",
   "nbconvert_exporter": "python",
   "pygments_lexer": "ipython3",
   "version": "3.6.9"
  }
 },
 "nbformat": 4,
 "nbformat_minor": 4
}
