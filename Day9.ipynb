{
 "cells": [
  {
   "cell_type": "code",
   "execution_count": 1,
   "metadata": {},
   "outputs": [],
   "source": [
    "import numpy as np\n",
    "from collections import deque"
   ]
  },
  {
   "cell_type": "markdown",
   "metadata": {},
   "source": [
    "# Part 1"
   ]
  },
  {
   "cell_type": "code",
   "execution_count": 2,
   "metadata": {},
   "outputs": [],
   "source": [
    "test = np.array(['2199943210',\n",
    "                 '3987894921',\n",
    "                 '9856789892',\n",
    "                 '8767896789',\n",
    "                 '9899965678'])"
   ]
  },
  {
   "cell_type": "code",
   "execution_count": 3,
   "metadata": {},
   "outputs": [
    {
     "name": "stdout",
     "output_type": "stream",
     "text": [
      "15\n"
     ]
    }
   ],
   "source": [
    "def process_input(data):\n",
    "    nums = []\n",
    "    for line in data:\n",
    "        nums.append(list(line))\n",
    "    return np.array(nums).astype(int)\n",
    "\n",
    "def get_lowest(data):\n",
    "    #Check if current position is lower than all neighbours\n",
    "    low_point = np.zeros_like(data, dtype=bool)\n",
    "    for i in range(0, len(data)):\n",
    "        for j in range(0, len(data[i])):\n",
    "            tgt = data[i,j]\n",
    "            tst = []\n",
    "            if i > 0:\n",
    "                tst.append(data[i-1,j])\n",
    "            if i < len(data)-1:\n",
    "                tst.append(data[i+1,j])\n",
    "            if j > 0:\n",
    "                tst.append(data[i,j-1])\n",
    "            if j < len(data[i])-1:\n",
    "                tst.append(data[i,j+1])\n",
    "                \n",
    "            low = True\n",
    "            for t in tst:\n",
    "                if tgt >= t:\n",
    "                    low = False\n",
    "                    break\n",
    "            low_point[i,j] = low\n",
    "            \n",
    "    return low_point\n",
    "\n",
    "def part1(data):\n",
    "    data = process_input(data)\n",
    "    low_point = get_lowest(data)\n",
    "    \n",
    "    score = np.sum(data*low_point) + np.sum(low_point)\n",
    "    return score\n",
    "\n",
    "print(part1(test))"
   ]
  },
  {
   "cell_type": "code",
   "execution_count": 4,
   "metadata": {},
   "outputs": [
    {
     "name": "stdout",
     "output_type": "stream",
     "text": [
      "Part 1 Result: 504\n"
     ]
    }
   ],
   "source": [
    "inpt = np.genfromtxt('day9_input.txt', dtype=str, delimiter='\\n')\n",
    "print('Part 1 Result:', part1(inpt))"
   ]
  },
  {
   "cell_type": "markdown",
   "metadata": {},
   "source": [
    "# Part 2"
   ]
  },
  {
   "cell_type": "code",
   "execution_count": 7,
   "metadata": {},
   "outputs": [
    {
     "name": "stdout",
     "output_type": "stream",
     "text": [
      "1134\n"
     ]
    }
   ],
   "source": [
    "def good_pos(data, pos):\n",
    "    if pos[0] < 0 or pos[0] > len(data)-1:\n",
    "        return False\n",
    "    elif pos[1] < 0 or pos[1] > len(data[0])-1:\n",
    "        return False\n",
    "    elif data[pos[0],pos[1]] == 9:\n",
    "        return False\n",
    "    return True\n",
    "\n",
    "def part2(data):\n",
    "    #Get low points\n",
    "    data = process_input(data)\n",
    "    low_points = get_lowest(data)\n",
    "    low_coord = np.where(low_points)\n",
    "    \n",
    "    #Breadth-First Search from lowest points\n",
    "    sizes = []\n",
    "    dx = [-1,1]\n",
    "    dy = [-1,1]\n",
    "    for b in range(0, len(low_coord[0])):\n",
    "        start = (low_coord[0][b], low_coord[1][b])\n",
    "        queue = deque([start])\n",
    "        basin = {start: b}\n",
    "        \n",
    "        while len(queue):\n",
    "            cur_pos = queue.popleft()\n",
    "            for i in range(0, 2):\n",
    "                #move in x\n",
    "                nxt_pos = (cur_pos[0]+dx[i], cur_pos[1])\n",
    "                if good_pos(data, nxt_pos) and nxt_pos not in basin.keys():\n",
    "                    queue.append(nxt_pos)\n",
    "                    basin[nxt_pos] = b\n",
    "                #move in y\n",
    "                nxt_pos = (cur_pos[0], cur_pos[1]+dy[i])\n",
    "                if good_pos(data, nxt_pos) and nxt_pos not in basin.keys():\n",
    "                    queue.append(nxt_pos)\n",
    "                    basin[nxt_pos] = b\n",
    "        sizes.append(len(basin.keys()))\n",
    "        \n",
    "    sizes = np.sort(sizes)\n",
    "    return np.prod(sizes[-3:])\n",
    "\n",
    "print(part2(test))"
   ]
  },
  {
   "cell_type": "code",
   "execution_count": 8,
   "metadata": {},
   "outputs": [
    {
     "name": "stdout",
     "output_type": "stream",
     "text": [
      "Part 2 Result: 1558722\n"
     ]
    }
   ],
   "source": [
    "print('Part 2 Result:', part2(inpt))"
   ]
  },
  {
   "cell_type": "code",
   "execution_count": null,
   "metadata": {},
   "outputs": [],
   "source": []
  }
 ],
 "metadata": {
  "kernelspec": {
   "display_name": "Python 3",
   "language": "python",
   "name": "python3"
  },
  "language_info": {
   "codemirror_mode": {
    "name": "ipython",
    "version": 3
   },
   "file_extension": ".py",
   "mimetype": "text/x-python",
   "name": "python",
   "nbconvert_exporter": "python",
   "pygments_lexer": "ipython3",
   "version": "3.8.5"
  }
 },
 "nbformat": 4,
 "nbformat_minor": 4
}
