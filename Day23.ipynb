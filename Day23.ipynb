{
 "cells": [
  {
   "cell_type": "markdown",
   "metadata": {},
   "source": [
    "With 'paper code'\n",
    "\n",
    "AKA by hand"
   ]
  },
  {
   "cell_type": "markdown",
   "metadata": {},
   "source": [
    "# Part 1"
   ]
  },
  {
   "cell_type": "code",
   "execution_count": 1,
   "metadata": {},
   "outputs": [
    {
     "name": "stdout",
     "output_type": "stream",
     "text": [
      "Part 1 Result: 15412\n"
     ]
    }
   ],
   "source": [
    "#############\n",
    "#...........#\n",
    "###B#B#D#A###\n",
    "###D#C#A#C###\n",
    "#############\n",
    "\n",
    "print('Part 1 Result:', 9+300+5000+7+500+20+500+30+40+9000+3+3)"
   ]
  },
  {
   "cell_type": "markdown",
   "metadata": {},
   "source": [
    "# Part 2"
   ]
  },
  {
   "cell_type": "code",
   "execution_count": 2,
   "metadata": {},
   "outputs": [
    {
     "name": "stdout",
     "output_type": "stream",
     "text": [
      "Part 2 Result: 52358\n"
     ]
    }
   ],
   "source": [
    "#############\n",
    "#...........#\n",
    "###B#B#D#A###\n",
    "###D#C#B#A###\n",
    "###D#B#A#C###\n",
    "###D#C#A#C###\n",
    "#############\n",
    "\n",
    "print('Part 2 Result:', 30+3000+11000+11000+11+11+800+700+5000+5000+5000+60+6+5+500+600+7+8+8000+40+600+40+700+50+60+60+70)"
   ]
  },
  {
   "cell_type": "code",
   "execution_count": null,
   "metadata": {},
   "outputs": [],
   "source": []
  }
 ],
 "metadata": {
  "kernelspec": {
   "display_name": "Python 3",
   "language": "python",
   "name": "python3"
  },
  "language_info": {
   "codemirror_mode": {
    "name": "ipython",
    "version": 3
   },
   "file_extension": ".py",
   "mimetype": "text/x-python",
   "name": "python",
   "nbconvert_exporter": "python",
   "pygments_lexer": "ipython3",
   "version": "3.8.5"
  }
 },
 "nbformat": 4,
 "nbformat_minor": 4
}
