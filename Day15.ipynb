{
 "cells": [
  {
   "cell_type": "code",
   "execution_count": 1,
   "metadata": {},
   "outputs": [],
   "source": [
    "import numpy as np\n",
    "from collections import deque\n",
    "from copy import deepcopy"
   ]
  },
  {
   "cell_type": "markdown",
   "metadata": {},
   "source": [
    "# Part 1"
   ]
  },
  {
   "cell_type": "code",
   "execution_count": 2,
   "metadata": {},
   "outputs": [],
   "source": [
    "test = np.array([[1,1,6,3,7,5,1,7,4,2],\n",
    "                 [1,3,8,1,3,7,3,6,7,2],\n",
    "                 [2,1,3,6,5,1,1,3,2,8],\n",
    "                 [3,6,9,4,9,3,1,5,6,9],\n",
    "                 [7,4,6,3,4,1,7,1,1,1],\n",
    "                 [1,3,1,9,1,2,8,1,3,7],\n",
    "                 [1,3,5,9,9,1,2,4,2,1],\n",
    "                 [3,1,2,5,4,2,1,6,3,9],\n",
    "                 [1,2,9,3,1,3,8,5,2,1],\n",
    "                 [2,3,1,1,9,4,4,5,8,1]])"
   ]
  },
  {
   "cell_type": "code",
   "execution_count": 3,
   "metadata": {},
   "outputs": [
    {
     "name": "stdout",
     "output_type": "stream",
     "text": [
      "40\n"
     ]
    }
   ],
   "source": [
    "def good_pos(data, pos):\n",
    "    if pos[0] < 0 or pos[0] > len(data)-1:\n",
    "        return False\n",
    "    elif pos[1] < 0 or pos[1] > len(data[0])-1:\n",
    "        return False\n",
    "    return True\n",
    "\n",
    "def dijkstra(graph):\n",
    "    size = 9*graph.shape[0]*graph.shape[1]\n",
    "    distance = np.ones_like(graph)*size\n",
    "    distance[0,0] = 0\n",
    "    \n",
    "    visited = {}#{(0,0): 0}\n",
    "    \n",
    "    #queue = deque([(0,0)])\n",
    "    queue = [(0,0)]\n",
    "    dxdy = [[-1,0],[1,0],[0,-1],[0,1]]\n",
    "    \n",
    "    while len(queue):\n",
    "        d = []\n",
    "        for i in range(0, len(queue)):\n",
    "            d.append(distance[queue[i][0],queue[i][1]])\n",
    "        idx = np.argmin(d)\n",
    "        cur_pos = deepcopy(queue[idx])\n",
    "        #queue.remove(cur_pos)\n",
    "        del queue[idx]\n",
    "        \n",
    "        if cur_pos in visited.keys():\n",
    "            continue   \n",
    "        visited[cur_pos] = distance[cur_pos[0],cur_pos[1]]\n",
    "        \n",
    "        for i in range(0, 4):\n",
    "            nxt_pos = (cur_pos[0]+dxdy[i][0], cur_pos[1]+dxdy[i][1])\n",
    "            if good_pos(graph, nxt_pos) and nxt_pos not in visited.keys():\n",
    "                dist = distance[cur_pos[0],cur_pos[1]] + graph[nxt_pos[0],nxt_pos[1]]\n",
    "                if dist < distance[nxt_pos[0],nxt_pos[1]]:\n",
    "                    distance[nxt_pos[0],nxt_pos[1]] = dist\n",
    "                queue.append(nxt_pos)\n",
    "                \n",
    "    return distance[-1,-1]\n",
    "\n",
    "print(dijkstra(test))"
   ]
  },
  {
   "cell_type": "code",
   "execution_count": 4,
   "metadata": {},
   "outputs": [
    {
     "name": "stdout",
     "output_type": "stream",
     "text": [
      "Part 1 Result: 685\n"
     ]
    }
   ],
   "source": [
    "inpt = np.genfromtxt('day15_input.txt', dtype=int, delimiter=1)\n",
    "print('Part 1 Result:', dijkstra(inpt))"
   ]
  },
  {
   "cell_type": "markdown",
   "metadata": {},
   "source": [
    "# Part 2"
   ]
  },
  {
   "cell_type": "code",
   "execution_count": 5,
   "metadata": {},
   "outputs": [
    {
     "name": "stdout",
     "output_type": "stream",
     "text": [
      "315\n"
     ]
    }
   ],
   "source": [
    "def augment_map(data):\n",
    "    #Go right\n",
    "    mapp = [data]\n",
    "    for i in range(0, 4):\n",
    "        mapp.append(deepcopy(mapp[i])+1)\n",
    "        clip = np.where(mapp[-1]>9)\n",
    "        mapp[-1][clip] = 1\n",
    "    data = np.hstack(mapp)\n",
    "    \n",
    "    #Go Left\n",
    "    mapp = [data]\n",
    "    for i in range(0, 4):\n",
    "        mapp.append(deepcopy(mapp[i])+1)\n",
    "        clip = np.where(mapp[-1]>9)\n",
    "        mapp[-1][clip] = 1\n",
    "    data = np.vstack(mapp)\n",
    "    \n",
    "    return data\n",
    "\n",
    "def part2(data):\n",
    "    data = augment_map(data)\n",
    "    return dijkstra(data)\n",
    "\n",
    "print(part2(test))"
   ]
  },
  {
   "cell_type": "code",
   "execution_count": 6,
   "metadata": {},
   "outputs": [
    {
     "name": "stdout",
     "output_type": "stream",
     "text": [
      "Part 2 Result: 2995\n"
     ]
    }
   ],
   "source": [
    "print('Part 2 Result:', part2(inpt))"
   ]
  },
  {
   "cell_type": "code",
   "execution_count": null,
   "metadata": {},
   "outputs": [],
   "source": []
  }
 ],
 "metadata": {
  "kernelspec": {
   "display_name": "Python 3",
   "language": "python",
   "name": "python3"
  },
  "language_info": {
   "codemirror_mode": {
    "name": "ipython",
    "version": 3
   },
   "file_extension": ".py",
   "mimetype": "text/x-python",
   "name": "python",
   "nbconvert_exporter": "python",
   "pygments_lexer": "ipython3",
   "version": "3.8.5"
  }
 },
 "nbformat": 4,
 "nbformat_minor": 4
}
