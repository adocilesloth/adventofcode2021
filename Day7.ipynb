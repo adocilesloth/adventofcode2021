{
 "cells": [
  {
   "cell_type": "code",
   "execution_count": 1,
   "metadata": {},
   "outputs": [],
   "source": [
    "import numpy as np"
   ]
  },
  {
   "cell_type": "markdown",
   "metadata": {},
   "source": [
    "# Part 1"
   ]
  },
  {
   "cell_type": "code",
   "execution_count": 2,
   "metadata": {},
   "outputs": [],
   "source": [
    "test = np.array([16,1,2,0,4,2,7,1,2,14])"
   ]
  },
  {
   "cell_type": "code",
   "execution_count": 3,
   "metadata": {},
   "outputs": [
    {
     "name": "stdout",
     "output_type": "stream",
     "text": [
      "37\n"
     ]
    }
   ],
   "source": [
    "def get_least_fuel(data):\n",
    "    mini = np.min(data)\n",
    "    maxi = np.max(data)\n",
    "    \n",
    "    fuel = maxi*len(data)\n",
    "    for i in range(mini, maxi+1):\n",
    "        diff = np.abs(data-i)\n",
    "        test = np.sum(diff)\n",
    "        \n",
    "        if test < fuel:\n",
    "            fuel = test\n",
    "    return fuel\n",
    "\n",
    "print(get_least_fuel(test))"
   ]
  },
  {
   "cell_type": "code",
   "execution_count": 4,
   "metadata": {},
   "outputs": [
    {
     "name": "stdout",
     "output_type": "stream",
     "text": [
      "Part 1 Result: 329389\n"
     ]
    }
   ],
   "source": [
    "inpt = np.genfromtxt('day7_input.txt', dtype=int, delimiter=',')\n",
    "print('Part 1 Result:', get_least_fuel(inpt))"
   ]
  },
  {
   "cell_type": "markdown",
   "metadata": {},
   "source": [
    "# Part 2"
   ]
  },
  {
   "cell_type": "code",
   "execution_count": 5,
   "metadata": {},
   "outputs": [
    {
     "name": "stdout",
     "output_type": "stream",
     "text": [
      "168\n"
     ]
    }
   ],
   "source": [
    "def get_least_fuel_ramp(data):\n",
    "    mini = np.min(data)\n",
    "    maxi = np.max(data)\n",
    "    \n",
    "    fuel = maxi*(maxi-1)*len(data)/2\n",
    "    for i in range(mini, maxi+1):\n",
    "        diff = np.abs(data-i)+1\n",
    "        ramp = diff*(diff-1)/2\n",
    "        test = np.sum(ramp)\n",
    "        \n",
    "        if test < fuel:\n",
    "            fuel = test\n",
    "    return int(fuel)\n",
    "\n",
    "print(get_least_fuel_ramp(test))"
   ]
  },
  {
   "cell_type": "code",
   "execution_count": 6,
   "metadata": {},
   "outputs": [
    {
     "name": "stdout",
     "output_type": "stream",
     "text": [
      "Part 2 Result: 86397080\n"
     ]
    }
   ],
   "source": [
    "print('Part 2 Result:', get_least_fuel_ramp(inpt))"
   ]
  },
  {
   "cell_type": "code",
   "execution_count": null,
   "metadata": {},
   "outputs": [],
   "source": []
  }
 ],
 "metadata": {
  "kernelspec": {
   "display_name": "Python 3",
   "language": "python",
   "name": "python3"
  },
  "language_info": {
   "codemirror_mode": {
    "name": "ipython",
    "version": 3
   },
   "file_extension": ".py",
   "mimetype": "text/x-python",
   "name": "python",
   "nbconvert_exporter": "python",
   "pygments_lexer": "ipython3",
   "version": "3.6.9"
  }
 },
 "nbformat": 4,
 "nbformat_minor": 4
}
