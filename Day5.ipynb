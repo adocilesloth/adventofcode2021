{
 "cells": [
  {
   "cell_type": "code",
   "execution_count": 1,
   "metadata": {},
   "outputs": [],
   "source": [
    "import numpy as np"
   ]
  },
  {
   "cell_type": "markdown",
   "metadata": {},
   "source": [
    "# Part 1"
   ]
  },
  {
   "cell_type": "code",
   "execution_count": 2,
   "metadata": {},
   "outputs": [],
   "source": [
    "test = np.array(['0,9 -> 5,9',\n",
    "                 '8,0 -> 0,8',\n",
    "                 '9,4 -> 3,4',\n",
    "                 '2,2 -> 2,1',\n",
    "                 '7,0 -> 7,4',\n",
    "                 '6,4 -> 2,0',\n",
    "                 '0,9 -> 2,9',\n",
    "                 '3,4 -> 1,4',\n",
    "                 '0,0 -> 8,8',\n",
    "                 '5,5 -> 8,2'])"
   ]
  },
  {
   "cell_type": "code",
   "execution_count": 3,
   "metadata": {},
   "outputs": [],
   "source": [
    "def line_intersection(line0, line1):\n",
    "    #We can use the fact we know intersections will be at integer coordinates to help\n",
    "    p, p1 = line0\n",
    "    r = p1-p\n",
    "    \n",
    "    q, q1 = line1\n",
    "    s = q1-q\n",
    "    \n",
    "    #Values for calculating intersection\n",
    "    qps = np.cross((q - p), s)\n",
    "    qpr = np.cross((q - p), r)\n",
    "    rs = np.cross(r, s)\n",
    "    \n",
    "    overlap = []\n",
    "    \n",
    "    #Colinear\n",
    "    if rs == 0 and qpr == 0:\n",
    "        #range along line0 for colinear overlap\n",
    "        t0 = np.dot((q - p), r) / np.dot(r, r)\n",
    "        t1 = np.dot((q + s - p), r) / np.dot(r, r)\n",
    "        \n",
    "        #If lines are colinear but do not overlap, return\n",
    "        if (t0 < 0. and t1 < 0.) or (t0 > 1. and t1 > 1.):\n",
    "            return np.array(overlap)\n",
    "        \n",
    "        #Make sure t0 is smaller than t1\n",
    "        if t1 < t0:\n",
    "            t2 = t1\n",
    "            t1 = t0\n",
    "            t0 = t2\n",
    "            \n",
    "        #Make sure t0 and t1 are inside line0\n",
    "        if t0 < 0:\n",
    "            t0 = 0.0\n",
    "        if t1 > 1:\n",
    "            t1 = 1.0\n",
    "        \n",
    "        #If t0 == t1 then the overlap is at one endor the other, so pick t0\n",
    "        if t0 == t1:\n",
    "            pq = p + (t0*r)\n",
    "            #check if integer. Use round to catch floating point errors\n",
    "            if round(pq[0],3).is_integer() and round(pq[0],3).is_integer():\n",
    "                overlap.append(np.around(pq).astype(int))\n",
    "            return np.array(overlap)\n",
    "            \n",
    "        #Find range that (should) tests integer positions\n",
    "        start = p+(t0*r)\n",
    "        stop = p+(t1*r)\n",
    "        delta = np.abs(start-stop)\n",
    "        t_delt = (t1-t0)/np.max(delta)\n",
    "            \n",
    "        for t in np.arange(t0, t1+(t_delt/2), t_delt):\n",
    "            pq = p + (t*r)\n",
    "            #check if integer. Use round to catch floating point errors\n",
    "            if round(pq[0],3).is_integer() and round(pq[0],3).is_integer():\n",
    "                pq = np.around(pq).astype(int)\n",
    "                if len(overlap) == 0:\n",
    "                    overlap.append(pq)\n",
    "                elif np.equal(overlap, pq).all(1).any() == False:\n",
    "                    overlap.append(pq)\n",
    "            \n",
    "    #Intersection\n",
    "    elif rs != 0:\n",
    "        t = qps / rs\n",
    "        u = qpr / rs\n",
    "        #Make sure intersection point is on both lines\n",
    "        if (t >= 0 and t <= 1) and (u >= 0 and u <= 1):\n",
    "            pq = p + (t*r)\n",
    "            if round(pq[0],3).is_integer() and round(pq[0],3).is_integer():\n",
    "                overlap.append(np.around(pq).astype(int))\n",
    "        \n",
    "    return np.array(overlap)\n",
    "\n",
    "def get_lines(data):\n",
    "    #Convert input into line start/end coordinates\n",
    "    lines = []\n",
    "    for line in data:\n",
    "        p_s, q_s = line.split(' -> ')\n",
    "        p_s = p_s.split(',')\n",
    "        p_s = np.array(p_s).astype(int)\n",
    "        q_s = q_s.split(',')\n",
    "        q_s = np.array(q_s).astype(int)\n",
    "        lines.append([p_s, q_s])\n",
    "    lines = np.array(lines)\n",
    "    return lines\n",
    "\n",
    "def keep_horizontal_verticle(lines):\n",
    "    #Only keep horizontal orverticle lines\n",
    "    delete = []\n",
    "    for i in range(0, len(lines)):\n",
    "        if lines[i][0,0] != lines[i][1,0] and lines[i][0,1] != lines[i][1,1]:\n",
    "            delete.append(i)\n",
    "    lines = np.delete(lines, delete, 0)\n",
    "    return lines\n",
    "\n",
    "def count_intersections(data, xy=True):\n",
    "    lines = get_lines(data)\n",
    "    if xy:\n",
    "        lines = keep_horizontal_verticle(lines)\n",
    "    \n",
    "    #For every line, check if it intersects the following lines\n",
    "    cross = {}\n",
    "    for i in range(0, len(lines)-1):\n",
    "        for j in range(i+1, len(lines)):\n",
    "            intct = line_intersection(lines[i], lines[j])\n",
    "            if len(intct) > 0:\n",
    "                for c in intct:\n",
    "                    if tuple(c) not in cross.keys():\n",
    "                        cross[tuple(c)] = 1\n",
    "                    else:\n",
    "                        cross[tuple(c)] +=1\n",
    "    return len(cross.keys())"
   ]
  },
  {
   "cell_type": "code",
   "execution_count": 4,
   "metadata": {},
   "outputs": [
    {
     "name": "stdout",
     "output_type": "stream",
     "text": [
      "5\n"
     ]
    }
   ],
   "source": [
    "print(count_intersections(test))"
   ]
  },
  {
   "cell_type": "code",
   "execution_count": 5,
   "metadata": {},
   "outputs": [
    {
     "name": "stdout",
     "output_type": "stream",
     "text": [
      "Part 1 Result: 7438\n"
     ]
    }
   ],
   "source": [
    "inpt = np.genfromtxt('day5_input.txt', dtype=str, delimiter='\\n')\n",
    "print('Part 1 Result:', count_intersections(inpt))"
   ]
  },
  {
   "cell_type": "markdown",
   "metadata": {},
   "source": [
    "# Part 2"
   ]
  },
  {
   "cell_type": "code",
   "execution_count": 6,
   "metadata": {},
   "outputs": [
    {
     "name": "stdout",
     "output_type": "stream",
     "text": [
      "12\n"
     ]
    }
   ],
   "source": [
    "print(count_intersections(test, False))"
   ]
  },
  {
   "cell_type": "code",
   "execution_count": 7,
   "metadata": {},
   "outputs": [
    {
     "name": "stdout",
     "output_type": "stream",
     "text": [
      "Part 2 Result: 21406\n"
     ]
    }
   ],
   "source": [
    "print('Part 2 Result:', count_intersections(inpt, False))"
   ]
  }
 ],
 "metadata": {
  "kernelspec": {
   "display_name": "Python 3",
   "language": "python",
   "name": "python3"
  },
  "language_info": {
   "codemirror_mode": {
    "name": "ipython",
    "version": 3
   },
   "file_extension": ".py",
   "mimetype": "text/x-python",
   "name": "python",
   "nbconvert_exporter": "python",
   "pygments_lexer": "ipython3",
   "version": "3.8.5"
  }
 },
 "nbformat": 4,
 "nbformat_minor": 4
}
