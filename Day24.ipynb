{
 "cells": [
  {
   "cell_type": "markdown",
   "metadata": {},
   "source": [
    "# Part 1"
   ]
  },
  {
   "cell_type": "markdown",
   "metadata": {},
   "source": [
    "z.push(A+1)\n",
    "\n",
    "z.push(B+7)\n",
    "\n",
    "z.push(C+13)\n",
    "\n",
    "if D != z.pop() - 6: ==> C+7 = D\n",
    "    z.push(w+10)\n",
    "\n",
    "z.push(E)\n",
    "\n",
    "if F != z.pop() - 4: ==> E-4 = F\n",
    "    z.push(F+13)\n",
    "\n",
    "z.push(G+11)\n",
    "\n",
    "z.push(H+6)\n",
    "\n",
    "z.push(I+1)\n",
    "\n",
    "if J != z.pop(): ==> I+1 = J\n",
    "    z.push(J+7)\n",
    "\n",
    "if K != z.pop(): ==> H+6 = K\n",
    "    z.push(K+11)\n",
    "\n",
    "if L != z.pop() - 3: G+8 = L\n",
    "    z.push(L+14)\n",
    "\n",
    "if M != z.pop() - 9: B-2 = M\n",
    "    z.push(M+4)\n",
    "\n",
    "if N != z.pop() - 9: A-8 = N\n",
    "    z.push(N+10)"
   ]
  },
  {
   "cell_type": "markdown",
   "metadata": {},
   "source": [
    "A = 9 => N = 9-8 = 1\n",
    "\n",
    "B = 9 => M = 9-2 = 7\n",
    "\n",
    "D = 9 => C = 9-7 = 2\n",
    "\n",
    "E = 9 => F = 9-4 = 5\n",
    "\n",
    "L = 9 => G = 9-8 = 1\n",
    "\n",
    "K = 9 => H = 9-6 = 3\n",
    "\n",
    "J = 9 => I = 9-1 = 8"
   ]
  },
  {
   "cell_type": "code",
   "execution_count": 1,
   "metadata": {},
   "outputs": [
    {
     "name": "stdout",
     "output_type": "stream",
     "text": [
      "Part 1 Result: 99299513899971\n"
     ]
    }
   ],
   "source": [
    "print('Part 1 Result:', 99299513899971)"
   ]
  },
  {
   "cell_type": "markdown",
   "metadata": {},
   "source": [
    "# Part 2"
   ]
  },
  {
   "cell_type": "markdown",
   "metadata": {},
   "source": [
    "N = 1 => A = 1+8 = 9\n",
    "\n",
    "M = 1 => B = 1+2 = 3\n",
    "\n",
    "C = 1 => D = 1+7 = 8\n",
    "\n",
    "F = 1 => E = 1+4 = 5\n",
    "\n",
    "G = 1 => L = 1+8 = 9\n",
    "\n",
    "H = 1 => K = 1+6 = 7\n",
    "\n",
    "I = 1 => J = 1+1 = 2"
   ]
  },
  {
   "cell_type": "code",
   "execution_count": 2,
   "metadata": {},
   "outputs": [
    {
     "name": "stdout",
     "output_type": "stream",
     "text": [
      "Part 2 Result: 93185111127911\n"
     ]
    }
   ],
   "source": [
    "print('Part 2 Result:', 93185111127911)"
   ]
  }
 ],
 "metadata": {
  "kernelspec": {
   "display_name": "Python 3",
   "language": "python",
   "name": "python3"
  },
  "language_info": {
   "codemirror_mode": {
    "name": "ipython",
    "version": 3
   },
   "file_extension": ".py",
   "mimetype": "text/x-python",
   "name": "python",
   "nbconvert_exporter": "python",
   "pygments_lexer": "ipython3",
   "version": "3.8.5"
  }
 },
 "nbformat": 4,
 "nbformat_minor": 4
}
